{
  "cells": [
    {
      "cell_type": "markdown",
      "metadata": {
        "id": "X01TO2J6l7ia"
      },
      "source": [
        "## Data analysis with SQL Project"
      ]
    },
    {
      "cell_type": "markdown",
      "metadata": {
        "id": "05VFKg_RmDhR"
      },
      "source": [
        "## Data Analysis Question"
      ]
    },
    {
      "cell_type": "markdown",
      "metadata": {
        "id": "2nBafy4Jq37H"
      },
      "source": [
        "#### The context"
      ]
    },
    {
      "cell_type": "markdown",
      "metadata": {
        "id": "qFxz2CFmmGm3"
      },
      "source": [
        "Over the past few years, ride-sharing apps have been on the rise across any cities in the world. While this has happened, Uber and Lyft's ride prices are not constant like public transport. They are greatly affected by the demand and supply of rides at a given time.\n",
        "\n",
        "In this project we will come up with a descriptive analysis report to help a Ride-Sharing Startup understand the various patterns on how pricing works for the existing ride-sharing companies.\n",
        "\n",
        "We will analyze the prices of these ride-sharing apps and try to figure out what drives the demand.\n",
        "\n",
        "We will try to find out if the following factors drive the demand for rides:\n",
        "1. Time of the day\n",
        "* Do times around 9 am and 5 pm have the highest price surges as a result of people commuting to work/home?\n",
        "* Do Mondays have more demand than Sunday at 9 am? \n",
        "2. Weather\n",
        "* Does rain/snow cause more people to take rides?\n",
        "Do people avoid cabs on a sunny day? \n",
        "\n"
      ]
    },
    {
      "cell_type": "markdown",
      "metadata": {
        "id": "n2StlKuMqfV2"
      },
      "source": [
        "#### Solution steps"
      ]
    },
    {
      "cell_type": "markdown",
      "metadata": {
        "id": "y59jd75Tq8Lk"
      },
      "source": [
        "1. Connect to the database\n",
        "2. Load libraries and the dataset\n",
        "3. Create database tables and preview data\n",
        "4. Perform data analysis\n",
        "5. Summarise our findings"
      ]
    },
    {
      "cell_type": "markdown",
      "metadata": {
        "id": "Sf4Z-YXyPnnH"
      },
      "source": [
        "## Connect to the database"
      ]
    },
    {
      "cell_type": "markdown",
      "metadata": {
        "id": "EwEs0rhQrP81"
      },
      "source": [
        "Load the SQL extension"
      ]
    },
    {
      "cell_type": "code",
      "execution_count": 2,
      "metadata": {
        "id": "i0v1xVn0rP82"
      },
      "outputs": [],
      "source": [
        "%load_ext sql"
      ]
    },
    {
      "cell_type": "markdown",
      "metadata": {
        "id": "CtrNq6EvrP83"
      },
      "source": [
        "Connect to the in-memory SQLite database within Google Colab"
      ]
    },
    {
      "cell_type": "code",
      "execution_count": 3,
      "metadata": {
        "colab": {
          "base_uri": "https://localhost:8080/",
          "height": 35
        },
        "id": "Gw8sM11NrP86",
        "outputId": "1b33d332-27ea-485e-c7a1-52a9b16e2344"
      },
      "outputs": [
        {
          "output_type": "execute_result",
          "data": {
            "text/plain": [
              "'Connected: @None'"
            ],
            "application/vnd.google.colaboratory.intrinsic+json": {
              "type": "string"
            }
          },
          "metadata": {},
          "execution_count": 3
        }
      ],
      "source": [
        "%sql sqlite://"
      ]
    },
    {
      "cell_type": "markdown",
      "metadata": {
        "id": "Jqj9hfr2P8-h"
      },
      "source": [
        "Load the SQL extension"
      ]
    },
    {
      "cell_type": "code",
      "execution_count": 4,
      "metadata": {
        "colab": {
          "base_uri": "https://localhost:8080/"
        },
        "id": "CQ-LXppzPt5m",
        "outputId": "8c24311a-aa22-4534-e521-531929759381"
      },
      "outputs": [
        {
          "output_type": "stream",
          "name": "stdout",
          "text": [
            "The sql extension is already loaded. To reload it, use:\n",
            "  %reload_ext sql\n"
          ]
        }
      ],
      "source": [
        "%load_ext sql"
      ]
    },
    {
      "cell_type": "markdown",
      "metadata": {
        "id": "Qr6VCMOJQrq0"
      },
      "source": [
        "## Load libraries"
      ]
    },
    {
      "cell_type": "markdown",
      "metadata": {
        "id": "uDF5hI8HTFte"
      },
      "source": [
        "Load libraries"
      ]
    },
    {
      "cell_type": "code",
      "execution_count": 5,
      "metadata": {
        "id": "Lwu3l4HITI1f"
      },
      "outputs": [],
      "source": [
        "import pandas as pd"
      ]
    },
    {
      "cell_type": "markdown",
      "metadata": {
        "id": "6oWa2PbwnHNg"
      },
      "source": [
        "## Load datasets and create database tables"
      ]
    },
    {
      "cell_type": "markdown",
      "metadata": {
        "id": "Srzp7l9PTMxx"
      },
      "source": [
        "Load weather data and preview"
      ]
    },
    {
      "cell_type": "code",
      "execution_count": 8,
      "metadata": {
        "colab": {
          "base_uri": "https://localhost:8080/",
          "height": 206
        },
        "id": "jdMaupGnS4ZR",
        "outputId": "95e960a2-8843-42a2-a036-266ab4145560"
      },
      "outputs": [
        {
          "output_type": "execute_result",
          "data": {
            "text/plain": [
              "    temp            location  clouds  pressure    rain  time_stamp  humidity  \\\n",
              "0  42.42            Back Bay     1.0   1012.14  0.1228  1545003901      0.77   \n",
              "1  42.43         Beacon Hill     1.0   1012.15  0.1846  1545003901      0.76   \n",
              "2  42.50   Boston University     1.0   1012.15  0.1089  1545003901      0.76   \n",
              "3  42.11              Fenway     1.0   1012.13  0.0969  1545003901      0.77   \n",
              "4  43.13  Financial District     1.0   1012.14  0.1786  1545003901      0.75   \n",
              "\n",
              "    wind  \n",
              "0  11.25  \n",
              "1  11.32  \n",
              "2  11.07  \n",
              "3  11.09  \n",
              "4  11.49  "
            ],
            "text/html": [
              "\n",
              "  <div id=\"df-e9f384e9-e677-4d87-9ea1-39ba7474832e\">\n",
              "    <div class=\"colab-df-container\">\n",
              "      <div>\n",
              "<style scoped>\n",
              "    .dataframe tbody tr th:only-of-type {\n",
              "        vertical-align: middle;\n",
              "    }\n",
              "\n",
              "    .dataframe tbody tr th {\n",
              "        vertical-align: top;\n",
              "    }\n",
              "\n",
              "    .dataframe thead th {\n",
              "        text-align: right;\n",
              "    }\n",
              "</style>\n",
              "<table border=\"1\" class=\"dataframe\">\n",
              "  <thead>\n",
              "    <tr style=\"text-align: right;\">\n",
              "      <th></th>\n",
              "      <th>temp</th>\n",
              "      <th>location</th>\n",
              "      <th>clouds</th>\n",
              "      <th>pressure</th>\n",
              "      <th>rain</th>\n",
              "      <th>time_stamp</th>\n",
              "      <th>humidity</th>\n",
              "      <th>wind</th>\n",
              "    </tr>\n",
              "  </thead>\n",
              "  <tbody>\n",
              "    <tr>\n",
              "      <th>0</th>\n",
              "      <td>42.42</td>\n",
              "      <td>Back Bay</td>\n",
              "      <td>1.0</td>\n",
              "      <td>1012.14</td>\n",
              "      <td>0.1228</td>\n",
              "      <td>1545003901</td>\n",
              "      <td>0.77</td>\n",
              "      <td>11.25</td>\n",
              "    </tr>\n",
              "    <tr>\n",
              "      <th>1</th>\n",
              "      <td>42.43</td>\n",
              "      <td>Beacon Hill</td>\n",
              "      <td>1.0</td>\n",
              "      <td>1012.15</td>\n",
              "      <td>0.1846</td>\n",
              "      <td>1545003901</td>\n",
              "      <td>0.76</td>\n",
              "      <td>11.32</td>\n",
              "    </tr>\n",
              "    <tr>\n",
              "      <th>2</th>\n",
              "      <td>42.50</td>\n",
              "      <td>Boston University</td>\n",
              "      <td>1.0</td>\n",
              "      <td>1012.15</td>\n",
              "      <td>0.1089</td>\n",
              "      <td>1545003901</td>\n",
              "      <td>0.76</td>\n",
              "      <td>11.07</td>\n",
              "    </tr>\n",
              "    <tr>\n",
              "      <th>3</th>\n",
              "      <td>42.11</td>\n",
              "      <td>Fenway</td>\n",
              "      <td>1.0</td>\n",
              "      <td>1012.13</td>\n",
              "      <td>0.0969</td>\n",
              "      <td>1545003901</td>\n",
              "      <td>0.77</td>\n",
              "      <td>11.09</td>\n",
              "    </tr>\n",
              "    <tr>\n",
              "      <th>4</th>\n",
              "      <td>43.13</td>\n",
              "      <td>Financial District</td>\n",
              "      <td>1.0</td>\n",
              "      <td>1012.14</td>\n",
              "      <td>0.1786</td>\n",
              "      <td>1545003901</td>\n",
              "      <td>0.75</td>\n",
              "      <td>11.49</td>\n",
              "    </tr>\n",
              "  </tbody>\n",
              "</table>\n",
              "</div>\n",
              "      <button class=\"colab-df-convert\" onclick=\"convertToInteractive('df-e9f384e9-e677-4d87-9ea1-39ba7474832e')\"\n",
              "              title=\"Convert this dataframe to an interactive table.\"\n",
              "              style=\"display:none;\">\n",
              "        \n",
              "  <svg xmlns=\"http://www.w3.org/2000/svg\" height=\"24px\"viewBox=\"0 0 24 24\"\n",
              "       width=\"24px\">\n",
              "    <path d=\"M0 0h24v24H0V0z\" fill=\"none\"/>\n",
              "    <path d=\"M18.56 5.44l.94 2.06.94-2.06 2.06-.94-2.06-.94-.94-2.06-.94 2.06-2.06.94zm-11 1L8.5 8.5l.94-2.06 2.06-.94-2.06-.94L8.5 2.5l-.94 2.06-2.06.94zm10 10l.94 2.06.94-2.06 2.06-.94-2.06-.94-.94-2.06-.94 2.06-2.06.94z\"/><path d=\"M17.41 7.96l-1.37-1.37c-.4-.4-.92-.59-1.43-.59-.52 0-1.04.2-1.43.59L10.3 9.45l-7.72 7.72c-.78.78-.78 2.05 0 2.83L4 21.41c.39.39.9.59 1.41.59.51 0 1.02-.2 1.41-.59l7.78-7.78 2.81-2.81c.8-.78.8-2.07 0-2.86zM5.41 20L4 18.59l7.72-7.72 1.47 1.35L5.41 20z\"/>\n",
              "  </svg>\n",
              "      </button>\n",
              "      \n",
              "  <style>\n",
              "    .colab-df-container {\n",
              "      display:flex;\n",
              "      flex-wrap:wrap;\n",
              "      gap: 12px;\n",
              "    }\n",
              "\n",
              "    .colab-df-convert {\n",
              "      background-color: #E8F0FE;\n",
              "      border: none;\n",
              "      border-radius: 50%;\n",
              "      cursor: pointer;\n",
              "      display: none;\n",
              "      fill: #1967D2;\n",
              "      height: 32px;\n",
              "      padding: 0 0 0 0;\n",
              "      width: 32px;\n",
              "    }\n",
              "\n",
              "    .colab-df-convert:hover {\n",
              "      background-color: #E2EBFA;\n",
              "      box-shadow: 0px 1px 2px rgba(60, 64, 67, 0.3), 0px 1px 3px 1px rgba(60, 64, 67, 0.15);\n",
              "      fill: #174EA6;\n",
              "    }\n",
              "\n",
              "    [theme=dark] .colab-df-convert {\n",
              "      background-color: #3B4455;\n",
              "      fill: #D2E3FC;\n",
              "    }\n",
              "\n",
              "    [theme=dark] .colab-df-convert:hover {\n",
              "      background-color: #434B5C;\n",
              "      box-shadow: 0px 1px 3px 1px rgba(0, 0, 0, 0.15);\n",
              "      filter: drop-shadow(0px 1px 2px rgba(0, 0, 0, 0.3));\n",
              "      fill: #FFFFFF;\n",
              "    }\n",
              "  </style>\n",
              "\n",
              "      <script>\n",
              "        const buttonEl =\n",
              "          document.querySelector('#df-e9f384e9-e677-4d87-9ea1-39ba7474832e button.colab-df-convert');\n",
              "        buttonEl.style.display =\n",
              "          google.colab.kernel.accessAllowed ? 'block' : 'none';\n",
              "\n",
              "        async function convertToInteractive(key) {\n",
              "          const element = document.querySelector('#df-e9f384e9-e677-4d87-9ea1-39ba7474832e');\n",
              "          const dataTable =\n",
              "            await google.colab.kernel.invokeFunction('convertToInteractive',\n",
              "                                                     [key], {});\n",
              "          if (!dataTable) return;\n",
              "\n",
              "          const docLinkHtml = 'Like what you see? Visit the ' +\n",
              "            '<a target=\"_blank\" href=https://colab.research.google.com/notebooks/data_table.ipynb>data table notebook</a>'\n",
              "            + ' to learn more about interactive tables.';\n",
              "          element.innerHTML = '';\n",
              "          dataTable['output_type'] = 'display_data';\n",
              "          await google.colab.output.renderOutput(dataTable, element);\n",
              "          const docLink = document.createElement('div');\n",
              "          docLink.innerHTML = docLinkHtml;\n",
              "          element.appendChild(docLink);\n",
              "        }\n",
              "      </script>\n",
              "    </div>\n",
              "  </div>\n",
              "  "
            ]
          },
          "metadata": {},
          "execution_count": 8
        }
      ],
      "source": [
        "weather = pd.read_csv('/content/weather.csv')\n",
        "weather.head()"
      ]
    },
    {
      "cell_type": "markdown",
      "metadata": {
        "id": "V187cBc2sV44"
      },
      "source": [
        "Load cab rides data and preview"
      ]
    },
    {
      "cell_type": "code",
      "execution_count": 9,
      "metadata": {
        "colab": {
          "base_uri": "https://localhost:8080/",
          "height": 424
        },
        "id": "CRYEu2qlsWX3",
        "outputId": "e9939223-3699-4439-e574-eacf9b0bf3e0"
      },
      "outputs": [
        {
          "output_type": "execute_result",
          "data": {
            "text/plain": [
              "   distance cab_type    time_stamp    destination            source  price  \\\n",
              "0      0.44     Lyft  1.544950e+12  North Station  Haymarket Square    5.0   \n",
              "1      0.44     Lyft  1.544950e+12  North Station  Haymarket Square   11.0   \n",
              "2      0.44     Lyft  1.544950e+12  North Station  Haymarket Square    7.0   \n",
              "3      0.44     Lyft  1.544950e+12  North Station  Haymarket Square   26.0   \n",
              "4      0.44     Lyft  1.544950e+12  North Station  Haymarket Square    9.0   \n",
              "\n",
              "   surge_multiplier                                    id    product_id  \\\n",
              "0                 1  424553bb-7174-41ea-aeb4-fe06d4f4b9d7     lyft_line   \n",
              "1                 1  4bd23055-6827-41c6-b23b-3c491f24e74d  lyft_premier   \n",
              "2                 1  981a3613-77af-4620-a42a-0c0866077d1e          lyft   \n",
              "3                 1  c2d88af2-d278-4bfd-a8d0-29ca77cc5512   lyft_luxsuv   \n",
              "4                 1  e0126e1f-8ca9-4f2e-82b3-50505a09db9a     lyft_plus   \n",
              "\n",
              "           name  \n",
              "0        Shared  \n",
              "1           Lux  \n",
              "2          Lyft  \n",
              "3  Lux Black XL  \n",
              "4       Lyft XL  "
            ],
            "text/html": [
              "\n",
              "  <div id=\"df-2caca0d7-05c7-4def-9f7b-4c525a5b2b2b\">\n",
              "    <div class=\"colab-df-container\">\n",
              "      <div>\n",
              "<style scoped>\n",
              "    .dataframe tbody tr th:only-of-type {\n",
              "        vertical-align: middle;\n",
              "    }\n",
              "\n",
              "    .dataframe tbody tr th {\n",
              "        vertical-align: top;\n",
              "    }\n",
              "\n",
              "    .dataframe thead th {\n",
              "        text-align: right;\n",
              "    }\n",
              "</style>\n",
              "<table border=\"1\" class=\"dataframe\">\n",
              "  <thead>\n",
              "    <tr style=\"text-align: right;\">\n",
              "      <th></th>\n",
              "      <th>distance</th>\n",
              "      <th>cab_type</th>\n",
              "      <th>time_stamp</th>\n",
              "      <th>destination</th>\n",
              "      <th>source</th>\n",
              "      <th>price</th>\n",
              "      <th>surge_multiplier</th>\n",
              "      <th>id</th>\n",
              "      <th>product_id</th>\n",
              "      <th>name</th>\n",
              "    </tr>\n",
              "  </thead>\n",
              "  <tbody>\n",
              "    <tr>\n",
              "      <th>0</th>\n",
              "      <td>0.44</td>\n",
              "      <td>Lyft</td>\n",
              "      <td>1.544950e+12</td>\n",
              "      <td>North Station</td>\n",
              "      <td>Haymarket Square</td>\n",
              "      <td>5.0</td>\n",
              "      <td>1</td>\n",
              "      <td>424553bb-7174-41ea-aeb4-fe06d4f4b9d7</td>\n",
              "      <td>lyft_line</td>\n",
              "      <td>Shared</td>\n",
              "    </tr>\n",
              "    <tr>\n",
              "      <th>1</th>\n",
              "      <td>0.44</td>\n",
              "      <td>Lyft</td>\n",
              "      <td>1.544950e+12</td>\n",
              "      <td>North Station</td>\n",
              "      <td>Haymarket Square</td>\n",
              "      <td>11.0</td>\n",
              "      <td>1</td>\n",
              "      <td>4bd23055-6827-41c6-b23b-3c491f24e74d</td>\n",
              "      <td>lyft_premier</td>\n",
              "      <td>Lux</td>\n",
              "    </tr>\n",
              "    <tr>\n",
              "      <th>2</th>\n",
              "      <td>0.44</td>\n",
              "      <td>Lyft</td>\n",
              "      <td>1.544950e+12</td>\n",
              "      <td>North Station</td>\n",
              "      <td>Haymarket Square</td>\n",
              "      <td>7.0</td>\n",
              "      <td>1</td>\n",
              "      <td>981a3613-77af-4620-a42a-0c0866077d1e</td>\n",
              "      <td>lyft</td>\n",
              "      <td>Lyft</td>\n",
              "    </tr>\n",
              "    <tr>\n",
              "      <th>3</th>\n",
              "      <td>0.44</td>\n",
              "      <td>Lyft</td>\n",
              "      <td>1.544950e+12</td>\n",
              "      <td>North Station</td>\n",
              "      <td>Haymarket Square</td>\n",
              "      <td>26.0</td>\n",
              "      <td>1</td>\n",
              "      <td>c2d88af2-d278-4bfd-a8d0-29ca77cc5512</td>\n",
              "      <td>lyft_luxsuv</td>\n",
              "      <td>Lux Black XL</td>\n",
              "    </tr>\n",
              "    <tr>\n",
              "      <th>4</th>\n",
              "      <td>0.44</td>\n",
              "      <td>Lyft</td>\n",
              "      <td>1.544950e+12</td>\n",
              "      <td>North Station</td>\n",
              "      <td>Haymarket Square</td>\n",
              "      <td>9.0</td>\n",
              "      <td>1</td>\n",
              "      <td>e0126e1f-8ca9-4f2e-82b3-50505a09db9a</td>\n",
              "      <td>lyft_plus</td>\n",
              "      <td>Lyft XL</td>\n",
              "    </tr>\n",
              "  </tbody>\n",
              "</table>\n",
              "</div>\n",
              "      <button class=\"colab-df-convert\" onclick=\"convertToInteractive('df-2caca0d7-05c7-4def-9f7b-4c525a5b2b2b')\"\n",
              "              title=\"Convert this dataframe to an interactive table.\"\n",
              "              style=\"display:none;\">\n",
              "        \n",
              "  <svg xmlns=\"http://www.w3.org/2000/svg\" height=\"24px\"viewBox=\"0 0 24 24\"\n",
              "       width=\"24px\">\n",
              "    <path d=\"M0 0h24v24H0V0z\" fill=\"none\"/>\n",
              "    <path d=\"M18.56 5.44l.94 2.06.94-2.06 2.06-.94-2.06-.94-.94-2.06-.94 2.06-2.06.94zm-11 1L8.5 8.5l.94-2.06 2.06-.94-2.06-.94L8.5 2.5l-.94 2.06-2.06.94zm10 10l.94 2.06.94-2.06 2.06-.94-2.06-.94-.94-2.06-.94 2.06-2.06.94z\"/><path d=\"M17.41 7.96l-1.37-1.37c-.4-.4-.92-.59-1.43-.59-.52 0-1.04.2-1.43.59L10.3 9.45l-7.72 7.72c-.78.78-.78 2.05 0 2.83L4 21.41c.39.39.9.59 1.41.59.51 0 1.02-.2 1.41-.59l7.78-7.78 2.81-2.81c.8-.78.8-2.07 0-2.86zM5.41 20L4 18.59l7.72-7.72 1.47 1.35L5.41 20z\"/>\n",
              "  </svg>\n",
              "      </button>\n",
              "      \n",
              "  <style>\n",
              "    .colab-df-container {\n",
              "      display:flex;\n",
              "      flex-wrap:wrap;\n",
              "      gap: 12px;\n",
              "    }\n",
              "\n",
              "    .colab-df-convert {\n",
              "      background-color: #E8F0FE;\n",
              "      border: none;\n",
              "      border-radius: 50%;\n",
              "      cursor: pointer;\n",
              "      display: none;\n",
              "      fill: #1967D2;\n",
              "      height: 32px;\n",
              "      padding: 0 0 0 0;\n",
              "      width: 32px;\n",
              "    }\n",
              "\n",
              "    .colab-df-convert:hover {\n",
              "      background-color: #E2EBFA;\n",
              "      box-shadow: 0px 1px 2px rgba(60, 64, 67, 0.3), 0px 1px 3px 1px rgba(60, 64, 67, 0.15);\n",
              "      fill: #174EA6;\n",
              "    }\n",
              "\n",
              "    [theme=dark] .colab-df-convert {\n",
              "      background-color: #3B4455;\n",
              "      fill: #D2E3FC;\n",
              "    }\n",
              "\n",
              "    [theme=dark] .colab-df-convert:hover {\n",
              "      background-color: #434B5C;\n",
              "      box-shadow: 0px 1px 3px 1px rgba(0, 0, 0, 0.15);\n",
              "      filter: drop-shadow(0px 1px 2px rgba(0, 0, 0, 0.3));\n",
              "      fill: #FFFFFF;\n",
              "    }\n",
              "  </style>\n",
              "\n",
              "      <script>\n",
              "        const buttonEl =\n",
              "          document.querySelector('#df-2caca0d7-05c7-4def-9f7b-4c525a5b2b2b button.colab-df-convert');\n",
              "        buttonEl.style.display =\n",
              "          google.colab.kernel.accessAllowed ? 'block' : 'none';\n",
              "\n",
              "        async function convertToInteractive(key) {\n",
              "          const element = document.querySelector('#df-2caca0d7-05c7-4def-9f7b-4c525a5b2b2b');\n",
              "          const dataTable =\n",
              "            await google.colab.kernel.invokeFunction('convertToInteractive',\n",
              "                                                     [key], {});\n",
              "          if (!dataTable) return;\n",
              "\n",
              "          const docLinkHtml = 'Like what you see? Visit the ' +\n",
              "            '<a target=\"_blank\" href=https://colab.research.google.com/notebooks/data_table.ipynb>data table notebook</a>'\n",
              "            + ' to learn more about interactive tables.';\n",
              "          element.innerHTML = '';\n",
              "          dataTable['output_type'] = 'display_data';\n",
              "          await google.colab.output.renderOutput(dataTable, element);\n",
              "          const docLink = document.createElement('div');\n",
              "          docLink.innerHTML = docLinkHtml;\n",
              "          element.appendChild(docLink);\n",
              "        }\n",
              "      </script>\n",
              "    </div>\n",
              "  </div>\n",
              "  "
            ]
          },
          "metadata": {},
          "execution_count": 9
        }
      ],
      "source": [
        "cab_rides = pd.read_csv('/content/cab_rides.csv')\n",
        "cab_rides.head()"
      ]
    },
    {
      "cell_type": "markdown",
      "metadata": {
        "id": "h1xXB0jjTVRY"
      },
      "source": [
        "Create database tables using the loaded datasets"
      ]
    },
    {
      "cell_type": "code",
      "execution_count": 10,
      "metadata": {
        "colab": {
          "base_uri": "https://localhost:8080/",
          "height": 139
        },
        "id": "DVs2Ah_oTY5f",
        "outputId": "aa4e0772-bc5f-4c00-b5ea-52f39aa2808c"
      },
      "outputs": [
        {
          "output_type": "stream",
          "name": "stdout",
          "text": [
            " * sqlite://\n",
            "Done.\n",
            " * sqlite://\n",
            " * sqlite://\n",
            "Done.\n",
            " * sqlite://\n"
          ]
        },
        {
          "output_type": "execute_result",
          "data": {
            "text/plain": [
              "'Persisted cab_rides'"
            ],
            "application/vnd.google.colaboratory.intrinsic+json": {
              "type": "string"
            }
          },
          "metadata": {},
          "execution_count": 10
        }
      ],
      "source": [
        "%sql DROP TABLE if EXISTS weather;\n",
        "%sql PERSIST weather\n",
        "\n",
        "%sql DROP TABLE if EXISTS cab_rides;\n",
        "%sql PERSIST cab_rides"
      ]
    },
    {
      "cell_type": "markdown",
      "metadata": {
        "id": "sCvFCYzKTd9A"
      },
      "source": [
        "Preview weather data"
      ]
    },
    {
      "cell_type": "code",
      "execution_count": null,
      "metadata": {
        "colab": {
          "base_uri": "https://localhost:8080/",
          "height": 289
        },
        "id": "eg1Vb4uiTgPP",
        "outputId": "2eef19ca-87b2-4cdc-c784-baa08d940b6f"
      },
      "outputs": [
        {
          "name": "stdout",
          "output_type": "stream",
          "text": [
            " * sqlite://\n",
            "Done.\n"
          ]
        },
        {
          "data": {
            "text/html": [
              "<table>\n",
              "    <thead>\n",
              "        <tr>\n",
              "            <th>index</th>\n",
              "            <th>temp</th>\n",
              "            <th>location</th>\n",
              "            <th>clouds</th>\n",
              "            <th>pressure</th>\n",
              "            <th>rain</th>\n",
              "            <th>time_stamp</th>\n",
              "            <th>humidity</th>\n",
              "            <th>wind</th>\n",
              "        </tr>\n",
              "    </thead>\n",
              "    <tbody>\n",
              "        <tr>\n",
              "            <td>0</td>\n",
              "            <td>42.42</td>\n",
              "            <td>Back Bay</td>\n",
              "            <td>1.0</td>\n",
              "            <td>1012.14</td>\n",
              "            <td>0.1228</td>\n",
              "            <td>1545003901</td>\n",
              "            <td>0.77</td>\n",
              "            <td>11.25</td>\n",
              "        </tr>\n",
              "        <tr>\n",
              "            <td>1</td>\n",
              "            <td>42.43</td>\n",
              "            <td>Beacon Hill</td>\n",
              "            <td>1.0</td>\n",
              "            <td>1012.15</td>\n",
              "            <td>0.1846</td>\n",
              "            <td>1545003901</td>\n",
              "            <td>0.76</td>\n",
              "            <td>11.32</td>\n",
              "        </tr>\n",
              "        <tr>\n",
              "            <td>2</td>\n",
              "            <td>42.5</td>\n",
              "            <td>Boston University</td>\n",
              "            <td>1.0</td>\n",
              "            <td>1012.15</td>\n",
              "            <td>0.1089</td>\n",
              "            <td>1545003901</td>\n",
              "            <td>0.76</td>\n",
              "            <td>11.07</td>\n",
              "        </tr>\n",
              "        <tr>\n",
              "            <td>3</td>\n",
              "            <td>42.11</td>\n",
              "            <td>Fenway</td>\n",
              "            <td>1.0</td>\n",
              "            <td>1012.13</td>\n",
              "            <td>0.0969</td>\n",
              "            <td>1545003901</td>\n",
              "            <td>0.77</td>\n",
              "            <td>11.09</td>\n",
              "        </tr>\n",
              "        <tr>\n",
              "            <td>4</td>\n",
              "            <td>43.13</td>\n",
              "            <td>Financial District</td>\n",
              "            <td>1.0</td>\n",
              "            <td>1012.14</td>\n",
              "            <td>0.1786</td>\n",
              "            <td>1545003901</td>\n",
              "            <td>0.75</td>\n",
              "            <td>11.49</td>\n",
              "        </tr>\n",
              "        <tr>\n",
              "            <td>5</td>\n",
              "            <td>42.34</td>\n",
              "            <td>Haymarket Square</td>\n",
              "            <td>1.0</td>\n",
              "            <td>1012.15</td>\n",
              "            <td>0.2068</td>\n",
              "            <td>1545003901</td>\n",
              "            <td>0.77</td>\n",
              "            <td>11.49</td>\n",
              "        </tr>\n",
              "        <tr>\n",
              "            <td>6</td>\n",
              "            <td>42.36</td>\n",
              "            <td>North End</td>\n",
              "            <td>1.0</td>\n",
              "            <td>1012.15</td>\n",
              "            <td>0.2088</td>\n",
              "            <td>1545003901</td>\n",
              "            <td>0.77</td>\n",
              "            <td>11.46</td>\n",
              "        </tr>\n",
              "        <tr>\n",
              "            <td>7</td>\n",
              "            <td>42.21</td>\n",
              "            <td>North Station</td>\n",
              "            <td>1.0</td>\n",
              "            <td>1012.16</td>\n",
              "            <td>0.2069</td>\n",
              "            <td>1545003901</td>\n",
              "            <td>0.77</td>\n",
              "            <td>11.37</td>\n",
              "        </tr>\n",
              "        <tr>\n",
              "            <td>8</td>\n",
              "            <td>42.07</td>\n",
              "            <td>Northeastern University</td>\n",
              "            <td>1.0</td>\n",
              "            <td>1012.12</td>\n",
              "            <td>0.102</td>\n",
              "            <td>1545003901</td>\n",
              "            <td>0.78</td>\n",
              "            <td>11.28</td>\n",
              "        </tr>\n",
              "        <tr>\n",
              "            <td>9</td>\n",
              "            <td>43.05</td>\n",
              "            <td>South Station</td>\n",
              "            <td>1.0</td>\n",
              "            <td>1012.12</td>\n",
              "            <td>0.1547</td>\n",
              "            <td>1545003901</td>\n",
              "            <td>0.75</td>\n",
              "            <td>11.58</td>\n",
              "        </tr>\n",
              "    </tbody>\n",
              "</table>"
            ],
            "text/plain": [
              "[(0, 42.42, 'Back Bay', 1.0, 1012.14, 0.1228, 1545003901, 0.77, 11.25),\n",
              " (1, 42.43, 'Beacon Hill', 1.0, 1012.15, 0.1846, 1545003901, 0.76, 11.32),\n",
              " (2, 42.5, 'Boston University', 1.0, 1012.15, 0.1089, 1545003901, 0.76, 11.07),\n",
              " (3, 42.11, 'Fenway', 1.0, 1012.13, 0.0969, 1545003901, 0.77, 11.09),\n",
              " (4, 43.13, 'Financial District', 1.0, 1012.14, 0.1786, 1545003901, 0.75, 11.49),\n",
              " (5, 42.34, 'Haymarket Square', 1.0, 1012.15, 0.2068, 1545003901, 0.77, 11.49),\n",
              " (6, 42.36, 'North End', 1.0, 1012.15, 0.2088, 1545003901, 0.77, 11.46),\n",
              " (7, 42.21, 'North Station', 1.0, 1012.16, 0.2069, 1545003901, 0.77, 11.37),\n",
              " (8, 42.07, 'Northeastern University', 1.0, 1012.12, 0.102, 1545003901, 0.78, 11.28),\n",
              " (9, 43.05, 'South Station', 1.0, 1012.12, 0.1547, 1545003901, 0.75, 11.58)]"
            ]
          },
          "execution_count": 13,
          "metadata": {},
          "output_type": "execute_result"
        }
      ],
      "source": [
        "%%sql \n",
        "select * from weather limit 10"
      ]
    },
    {
      "cell_type": "markdown",
      "metadata": {
        "id": "e3UFbqetsn7-"
      },
      "source": [
        "Preview cab rides data"
      ]
    },
    {
      "cell_type": "code",
      "execution_count": null,
      "metadata": {
        "colab": {
          "base_uri": "https://localhost:8080/",
          "height": 269
        },
        "id": "qQDDRFBGsuiT",
        "outputId": "34fd86bc-d056-4dc7-81c6-9880931f20e2"
      },
      "outputs": [
        {
          "name": "stdout",
          "output_type": "stream",
          "text": [
            " * sqlite://\n",
            "Done.\n"
          ]
        },
        {
          "data": {
            "text/html": [
              "<table>\n",
              "    <thead>\n",
              "        <tr>\n",
              "            <th>index</th>\n",
              "            <th>distance</th>\n",
              "            <th>cab_type</th>\n",
              "            <th>time_stamp</th>\n",
              "            <th>destination</th>\n",
              "            <th>source</th>\n",
              "            <th>price</th>\n",
              "            <th>surge_multiplier</th>\n",
              "            <th>id</th>\n",
              "            <th>product_id</th>\n",
              "            <th>name</th>\n",
              "        </tr>\n",
              "    </thead>\n",
              "    <tbody>\n",
              "        <tr>\n",
              "            <td>0</td>\n",
              "            <td>0.44</td>\n",
              "            <td>Lyft</td>\n",
              "            <td>1544950000000.0</td>\n",
              "            <td>North Station</td>\n",
              "            <td>Haymarket Square</td>\n",
              "            <td>5.0</td>\n",
              "            <td>1</td>\n",
              "            <td>424553bb-7174-41ea-aeb4-fe06d4f4b9d7</td>\n",
              "            <td>lyft_line</td>\n",
              "            <td>Shared</td>\n",
              "        </tr>\n",
              "        <tr>\n",
              "            <td>1</td>\n",
              "            <td>0.44</td>\n",
              "            <td>Lyft</td>\n",
              "            <td>1544950000000.0</td>\n",
              "            <td>North Station</td>\n",
              "            <td>Haymarket Square</td>\n",
              "            <td>11.0</td>\n",
              "            <td>1</td>\n",
              "            <td>4bd23055-6827-41c6-b23b-3c491f24e74d</td>\n",
              "            <td>lyft_premier</td>\n",
              "            <td>Lux</td>\n",
              "        </tr>\n",
              "        <tr>\n",
              "            <td>2</td>\n",
              "            <td>0.44</td>\n",
              "            <td>Lyft</td>\n",
              "            <td>1544950000000.0</td>\n",
              "            <td>North Station</td>\n",
              "            <td>Haymarket Square</td>\n",
              "            <td>7.0</td>\n",
              "            <td>1</td>\n",
              "            <td>981a3613-77af-4620-a42a-0c0866077d1e</td>\n",
              "            <td>lyft</td>\n",
              "            <td>Lyft</td>\n",
              "        </tr>\n",
              "        <tr>\n",
              "            <td>3</td>\n",
              "            <td>0.44</td>\n",
              "            <td>Lyft</td>\n",
              "            <td>1544950000000.0</td>\n",
              "            <td>North Station</td>\n",
              "            <td>Haymarket Square</td>\n",
              "            <td>26.0</td>\n",
              "            <td>1</td>\n",
              "            <td>c2d88af2-d278-4bfd-a8d0-29ca77cc5512</td>\n",
              "            <td>lyft_luxsuv</td>\n",
              "            <td>Lux Black XL</td>\n",
              "        </tr>\n",
              "        <tr>\n",
              "            <td>4</td>\n",
              "            <td>0.44</td>\n",
              "            <td>Lyft</td>\n",
              "            <td>1544950000000.0</td>\n",
              "            <td>North Station</td>\n",
              "            <td>Haymarket Square</td>\n",
              "            <td>9.0</td>\n",
              "            <td>1</td>\n",
              "            <td>e0126e1f-8ca9-4f2e-82b3-50505a09db9a</td>\n",
              "            <td>lyft_plus</td>\n",
              "            <td>Lyft XL</td>\n",
              "        </tr>\n",
              "    </tbody>\n",
              "</table>"
            ],
            "text/plain": [
              "[(0, 0.44, 'Lyft', 1544950000000.0, 'North Station', 'Haymarket Square', 5.0, 1, '424553bb-7174-41ea-aeb4-fe06d4f4b9d7', 'lyft_line', 'Shared'),\n",
              " (1, 0.44, 'Lyft', 1544950000000.0, 'North Station', 'Haymarket Square', 11.0, 1, '4bd23055-6827-41c6-b23b-3c491f24e74d', 'lyft_premier', 'Lux'),\n",
              " (2, 0.44, 'Lyft', 1544950000000.0, 'North Station', 'Haymarket Square', 7.0, 1, '981a3613-77af-4620-a42a-0c0866077d1e', 'lyft', 'Lyft'),\n",
              " (3, 0.44, 'Lyft', 1544950000000.0, 'North Station', 'Haymarket Square', 26.0, 1, 'c2d88af2-d278-4bfd-a8d0-29ca77cc5512', 'lyft_luxsuv', 'Lux Black XL'),\n",
              " (4, 0.44, 'Lyft', 1544950000000.0, 'North Station', 'Haymarket Square', 9.0, 1, 'e0126e1f-8ca9-4f2e-82b3-50505a09db9a', 'lyft_plus', 'Lyft XL')]"
            ]
          },
          "execution_count": 15,
          "metadata": {},
          "output_type": "execute_result"
        }
      ],
      "source": [
        "%sql select * from cab_rides limit 5"
      ]
    },
    {
      "cell_type": "markdown",
      "metadata": {
        "id": "k2koCD_wO3x4"
      },
      "source": [
        "## Data analysis"
      ]
    },
    {
      "cell_type": "markdown",
      "source": [
        "### 1) Does weather drive the prices of rides?"
      ],
      "metadata": {
        "id": "X69y9KoO9TEc"
      }
    },
    {
      "cell_type": "markdown",
      "source": [
        "#### What was the weather at both the source and destination when the price was the highest?"
      ],
      "metadata": {
        "id": "uJ4YihqPzCXt"
      }
    },
    {
      "cell_type": "markdown",
      "source": [
        "Get a glimpse of rides data when price was maximum"
      ],
      "metadata": {
        "id": "QP0AdhOc2lLr"
      }
    },
    {
      "cell_type": "code",
      "execution_count": 20,
      "metadata": {
        "colab": {
          "base_uri": "https://localhost:8080/",
          "height": 97
        },
        "id": "8nnLl4OKlJ5I",
        "outputId": "81a8c4a4-2f23-4ab5-a87b-0a9bbb403161"
      },
      "outputs": [
        {
          "output_type": "stream",
          "name": "stdout",
          "text": [
            " * sqlite://\n",
            "Done.\n"
          ]
        },
        {
          "output_type": "execute_result",
          "data": {
            "text/plain": [
              "[(80.0, 2.0, '2018-12-13 22:26:40', 'Boston University', 'North Station', 'Lux Black XL')]"
            ],
            "text/html": [
              "<table>\n",
              "    <thead>\n",
              "        <tr>\n",
              "            <th>price</th>\n",
              "            <th>surge_multiplier</th>\n",
              "            <th>date</th>\n",
              "            <th>source</th>\n",
              "            <th>destination</th>\n",
              "            <th>name</th>\n",
              "        </tr>\n",
              "    </thead>\n",
              "    <tbody>\n",
              "        <tr>\n",
              "            <td>80.0</td>\n",
              "            <td>2.0</td>\n",
              "            <td>2018-12-13 22:26:40</td>\n",
              "            <td>Boston University</td>\n",
              "            <td>North Station</td>\n",
              "            <td>Lux Black XL</td>\n",
              "        </tr>\n",
              "    </tbody>\n",
              "</table>"
            ]
          },
          "metadata": {},
          "execution_count": 20
        }
      ],
      "source": [
        "%%sql\n",
        "select max(price) as price, surge_multiplier, datetime(time_stamp/1000, 'unixepoch') date, source, destination, name\n",
        "from cab_rides;"
      ]
    },
    {
      "cell_type": "markdown",
      "source": [
        "Get weather data at the source"
      ],
      "metadata": {
        "id": "DMITPMcN5s_Z"
      }
    },
    {
      "cell_type": "code",
      "source": [
        "%%sql\n",
        "\n",
        "select datetime(time_stamp, 'unixepoch') date, temp,\tlocation,\tclouds,\tpressure,\train,\thumidity,\twind\n",
        "from weather\n",
        "where location = (select source from cab_rides where price = (select max(price) from cab_rides)) \n",
        "and datetime(time_stamp, 'unixepoch') <= (select datetime(time_stamp/1000, 'unixepoch') date from cab_rides where price = (select max(price) from cab_rides))\n",
        "order by date desc limit 10"
      ],
      "metadata": {
        "colab": {
          "base_uri": "https://localhost:8080/",
          "height": 289
        },
        "id": "UXXBRs240S-A",
        "outputId": "fdc268ce-6321-4c94-c640-6bf63e99a932"
      },
      "execution_count": 18,
      "outputs": [
        {
          "output_type": "stream",
          "name": "stdout",
          "text": [
            " * sqlite://\n",
            "Done.\n"
          ]
        },
        {
          "output_type": "execute_result",
          "data": {
            "text/plain": [
              "[('2018-12-13 21:45:01', 31.6, 'Boston University', 0.78, 1034.38, None, 0.63, 1.98),\n",
              " ('2018-12-13 20:45:02', 32.12, 'Boston University', 0.61, 1034.09, None, 0.61, 1.22),\n",
              " ('2018-12-13 19:45:02', 32.7, 'Boston University', 0.52, 1033.74, None, 0.56, 1.7),\n",
              " ('2018-12-13 18:45:02', 32.35, 'Boston University', 0.7, 1033.65, None, 0.56, 2.29),\n",
              " ('2018-12-13 17:45:02', 31.8, 'Boston University', 0.55, 1033.43, None, 0.54, 2.0),\n",
              " ('2018-12-13 16:45:02', 28.46, 'Boston University', 0.24, 1033.35, None, 0.56, 1.98),\n",
              " ('2018-12-13 15:45:01', 25.88, 'Boston University', 0.53, 1033.66, None, 0.58, 2.73),\n",
              " ('2018-12-13 14:45:02', 23.63, 'Boston University', 0.34, 1034.01, None, 0.61, 2.97),\n",
              " ('2018-12-13 13:45:02', 21.36, 'Boston University', 0.2, 1033.72, None, 0.6, 2.85),\n",
              " ('2018-12-13 12:45:02', 20.4, 'Boston University', 0.28, 1032.54, None, 0.62, 2.96)]"
            ],
            "text/html": [
              "<table>\n",
              "    <thead>\n",
              "        <tr>\n",
              "            <th>date</th>\n",
              "            <th>temp</th>\n",
              "            <th>location</th>\n",
              "            <th>clouds</th>\n",
              "            <th>pressure</th>\n",
              "            <th>rain</th>\n",
              "            <th>humidity</th>\n",
              "            <th>wind</th>\n",
              "        </tr>\n",
              "    </thead>\n",
              "    <tbody>\n",
              "        <tr>\n",
              "            <td>2018-12-13 21:45:01</td>\n",
              "            <td>31.6</td>\n",
              "            <td>Boston University</td>\n",
              "            <td>0.78</td>\n",
              "            <td>1034.38</td>\n",
              "            <td>None</td>\n",
              "            <td>0.63</td>\n",
              "            <td>1.98</td>\n",
              "        </tr>\n",
              "        <tr>\n",
              "            <td>2018-12-13 20:45:02</td>\n",
              "            <td>32.12</td>\n",
              "            <td>Boston University</td>\n",
              "            <td>0.61</td>\n",
              "            <td>1034.09</td>\n",
              "            <td>None</td>\n",
              "            <td>0.61</td>\n",
              "            <td>1.22</td>\n",
              "        </tr>\n",
              "        <tr>\n",
              "            <td>2018-12-13 19:45:02</td>\n",
              "            <td>32.7</td>\n",
              "            <td>Boston University</td>\n",
              "            <td>0.52</td>\n",
              "            <td>1033.74</td>\n",
              "            <td>None</td>\n",
              "            <td>0.56</td>\n",
              "            <td>1.7</td>\n",
              "        </tr>\n",
              "        <tr>\n",
              "            <td>2018-12-13 18:45:02</td>\n",
              "            <td>32.35</td>\n",
              "            <td>Boston University</td>\n",
              "            <td>0.7</td>\n",
              "            <td>1033.65</td>\n",
              "            <td>None</td>\n",
              "            <td>0.56</td>\n",
              "            <td>2.29</td>\n",
              "        </tr>\n",
              "        <tr>\n",
              "            <td>2018-12-13 17:45:02</td>\n",
              "            <td>31.8</td>\n",
              "            <td>Boston University</td>\n",
              "            <td>0.55</td>\n",
              "            <td>1033.43</td>\n",
              "            <td>None</td>\n",
              "            <td>0.54</td>\n",
              "            <td>2.0</td>\n",
              "        </tr>\n",
              "        <tr>\n",
              "            <td>2018-12-13 16:45:02</td>\n",
              "            <td>28.46</td>\n",
              "            <td>Boston University</td>\n",
              "            <td>0.24</td>\n",
              "            <td>1033.35</td>\n",
              "            <td>None</td>\n",
              "            <td>0.56</td>\n",
              "            <td>1.98</td>\n",
              "        </tr>\n",
              "        <tr>\n",
              "            <td>2018-12-13 15:45:01</td>\n",
              "            <td>25.88</td>\n",
              "            <td>Boston University</td>\n",
              "            <td>0.53</td>\n",
              "            <td>1033.66</td>\n",
              "            <td>None</td>\n",
              "            <td>0.58</td>\n",
              "            <td>2.73</td>\n",
              "        </tr>\n",
              "        <tr>\n",
              "            <td>2018-12-13 14:45:02</td>\n",
              "            <td>23.63</td>\n",
              "            <td>Boston University</td>\n",
              "            <td>0.34</td>\n",
              "            <td>1034.01</td>\n",
              "            <td>None</td>\n",
              "            <td>0.61</td>\n",
              "            <td>2.97</td>\n",
              "        </tr>\n",
              "        <tr>\n",
              "            <td>2018-12-13 13:45:02</td>\n",
              "            <td>21.36</td>\n",
              "            <td>Boston University</td>\n",
              "            <td>0.2</td>\n",
              "            <td>1033.72</td>\n",
              "            <td>None</td>\n",
              "            <td>0.6</td>\n",
              "            <td>2.85</td>\n",
              "        </tr>\n",
              "        <tr>\n",
              "            <td>2018-12-13 12:45:02</td>\n",
              "            <td>20.4</td>\n",
              "            <td>Boston University</td>\n",
              "            <td>0.28</td>\n",
              "            <td>1032.54</td>\n",
              "            <td>None</td>\n",
              "            <td>0.62</td>\n",
              "            <td>2.96</td>\n",
              "        </tr>\n",
              "    </tbody>\n",
              "</table>"
            ]
          },
          "metadata": {},
          "execution_count": 18
        }
      ]
    },
    {
      "cell_type": "markdown",
      "source": [
        "Get weather data at the destination"
      ],
      "metadata": {
        "id": "nHfaxlqibk2z"
      }
    },
    {
      "cell_type": "code",
      "source": [
        "%%sql\n",
        "\n",
        "select datetime(time_stamp, 'unixepoch') date, temp,\tlocation,\tclouds,\tpressure,\train,\thumidity,\twind\n",
        "from weather\n",
        "where location = (select destination from cab_rides where price = (select max(price) from cab_rides)) \n",
        "and datetime(time_stamp, 'unixepoch') <= (select datetime(time_stamp/1000, 'unixepoch') date from cab_rides where price = (select max(price) from cab_rides))\n",
        "order by date desc limit 10"
      ],
      "metadata": {
        "colab": {
          "base_uri": "https://localhost:8080/",
          "height": 289
        },
        "id": "gg2veBRt3IdW",
        "outputId": "91e31c51-6707-45e7-8391-b00affab80f4"
      },
      "execution_count": 90,
      "outputs": [
        {
          "output_type": "stream",
          "name": "stdout",
          "text": [
            " * sqlite://\n",
            "Done.\n"
          ]
        },
        {
          "output_type": "execute_result",
          "data": {
            "text/plain": [
              "[('2018-11-26 22:05:09', 44.8, 'Fenway', 0.98, 1008.38, 0.013, 0.87, 7.36),\n",
              " ('2018-11-26 21:35:08', 44.32, 'Fenway', 0.91, 1008.99, 0.003, 0.87, 9.36),\n",
              " ('2018-11-26 21:05:10', 44.67, 'Fenway', 1.0, 1009.1, None, 0.85, 9.12),\n",
              " ('2018-11-26 20:35:08', 44.87, 'Fenway', 0.88, 1009.85, None, 0.84, 9.29),\n",
              " ('2018-11-26 20:05:09', 45.03, 'Fenway', 0.98, 1010.02, None, 0.84, 8.06),\n",
              " ('2018-11-26 19:35:09', 45.8, 'Fenway', 0.92, 1010.86, None, 0.83, 8.67),\n",
              " ('2018-11-26 19:05:08', 45.81, 'Fenway', 0.97, 1010.97, None, 0.84, 8.09),\n",
              " ('2018-11-26 18:35:08', 45.45, 'Fenway', 1.0, 1011.84, None, 0.87, 6.19),\n",
              " ('2018-11-26 18:05:08', 45.12, 'Fenway', 0.97, 1012.37, None, 0.88, 4.58),\n",
              " ('2018-11-26 17:35:10', 45.64, 'Fenway', 1.0, 1012.46, None, 0.85, 6.44)]"
            ],
            "text/html": [
              "<table>\n",
              "    <thead>\n",
              "        <tr>\n",
              "            <th>date</th>\n",
              "            <th>temp</th>\n",
              "            <th>location</th>\n",
              "            <th>clouds</th>\n",
              "            <th>pressure</th>\n",
              "            <th>rain</th>\n",
              "            <th>humidity</th>\n",
              "            <th>wind</th>\n",
              "        </tr>\n",
              "    </thead>\n",
              "    <tbody>\n",
              "        <tr>\n",
              "            <td>2018-11-26 22:05:09</td>\n",
              "            <td>44.8</td>\n",
              "            <td>Fenway</td>\n",
              "            <td>0.98</td>\n",
              "            <td>1008.38</td>\n",
              "            <td>0.013</td>\n",
              "            <td>0.87</td>\n",
              "            <td>7.36</td>\n",
              "        </tr>\n",
              "        <tr>\n",
              "            <td>2018-11-26 21:35:08</td>\n",
              "            <td>44.32</td>\n",
              "            <td>Fenway</td>\n",
              "            <td>0.91</td>\n",
              "            <td>1008.99</td>\n",
              "            <td>0.003</td>\n",
              "            <td>0.87</td>\n",
              "            <td>9.36</td>\n",
              "        </tr>\n",
              "        <tr>\n",
              "            <td>2018-11-26 21:05:10</td>\n",
              "            <td>44.67</td>\n",
              "            <td>Fenway</td>\n",
              "            <td>1.0</td>\n",
              "            <td>1009.1</td>\n",
              "            <td>None</td>\n",
              "            <td>0.85</td>\n",
              "            <td>9.12</td>\n",
              "        </tr>\n",
              "        <tr>\n",
              "            <td>2018-11-26 20:35:08</td>\n",
              "            <td>44.87</td>\n",
              "            <td>Fenway</td>\n",
              "            <td>0.88</td>\n",
              "            <td>1009.85</td>\n",
              "            <td>None</td>\n",
              "            <td>0.84</td>\n",
              "            <td>9.29</td>\n",
              "        </tr>\n",
              "        <tr>\n",
              "            <td>2018-11-26 20:05:09</td>\n",
              "            <td>45.03</td>\n",
              "            <td>Fenway</td>\n",
              "            <td>0.98</td>\n",
              "            <td>1010.02</td>\n",
              "            <td>None</td>\n",
              "            <td>0.84</td>\n",
              "            <td>8.06</td>\n",
              "        </tr>\n",
              "        <tr>\n",
              "            <td>2018-11-26 19:35:09</td>\n",
              "            <td>45.8</td>\n",
              "            <td>Fenway</td>\n",
              "            <td>0.92</td>\n",
              "            <td>1010.86</td>\n",
              "            <td>None</td>\n",
              "            <td>0.83</td>\n",
              "            <td>8.67</td>\n",
              "        </tr>\n",
              "        <tr>\n",
              "            <td>2018-11-26 19:05:08</td>\n",
              "            <td>45.81</td>\n",
              "            <td>Fenway</td>\n",
              "            <td>0.97</td>\n",
              "            <td>1010.97</td>\n",
              "            <td>None</td>\n",
              "            <td>0.84</td>\n",
              "            <td>8.09</td>\n",
              "        </tr>\n",
              "        <tr>\n",
              "            <td>2018-11-26 18:35:08</td>\n",
              "            <td>45.45</td>\n",
              "            <td>Fenway</td>\n",
              "            <td>1.0</td>\n",
              "            <td>1011.84</td>\n",
              "            <td>None</td>\n",
              "            <td>0.87</td>\n",
              "            <td>6.19</td>\n",
              "        </tr>\n",
              "        <tr>\n",
              "            <td>2018-11-26 18:05:08</td>\n",
              "            <td>45.12</td>\n",
              "            <td>Fenway</td>\n",
              "            <td>0.97</td>\n",
              "            <td>1012.37</td>\n",
              "            <td>None</td>\n",
              "            <td>0.88</td>\n",
              "            <td>4.58</td>\n",
              "        </tr>\n",
              "        <tr>\n",
              "            <td>2018-11-26 17:35:10</td>\n",
              "            <td>45.64</td>\n",
              "            <td>Fenway</td>\n",
              "            <td>1.0</td>\n",
              "            <td>1012.46</td>\n",
              "            <td>None</td>\n",
              "            <td>0.85</td>\n",
              "            <td>6.44</td>\n",
              "        </tr>\n",
              "    </tbody>\n",
              "</table>"
            ]
          },
          "metadata": {},
          "execution_count": 90
        }
      ]
    },
    {
      "cell_type": "markdown",
      "source": [
        "**Observations**\n",
        "1.  Around the time when the price was the highest, there was light rainfall at the destination\n",
        "2. The price doubled."
      ],
      "metadata": {
        "id": "wBQRPzI2zOc3"
      }
    },
    {
      "cell_type": "markdown",
      "source": [
        "#### What was the weather at both the source and destination when the price was the lowest?"
      ],
      "metadata": {
        "id": "Sh1ATuoa5ZoN"
      }
    },
    {
      "cell_type": "markdown",
      "source": [
        "Get a glimpse of rides data when price was minimum"
      ],
      "metadata": {
        "id": "nJjH8m9r5-8o"
      }
    },
    {
      "cell_type": "code",
      "source": [
        "%%sql\n",
        "select min(price) as price, surge_multiplier, datetime(time_stamp/1000, 'unixepoch') date, source, destination, name\n",
        "from cab_rides;"
      ],
      "metadata": {
        "colab": {
          "base_uri": "https://localhost:8080/",
          "height": 97
        },
        "id": "HLAWHBxizR6O",
        "outputId": "78d4d962-82ce-4406-9dd3-c38837c725ac"
      },
      "execution_count": 19,
      "outputs": [
        {
          "output_type": "stream",
          "name": "stdout",
          "text": [
            " * sqlite://\n",
            "Done.\n"
          ]
        },
        {
          "output_type": "execute_result",
          "data": {
            "text/plain": [
              "[(2.5, 1.0, '2018-12-13 16:53:20', 'Boston University', 'Back Bay', 'Shared')]"
            ],
            "text/html": [
              "<table>\n",
              "    <thead>\n",
              "        <tr>\n",
              "            <th>price</th>\n",
              "            <th>surge_multiplier</th>\n",
              "            <th>date</th>\n",
              "            <th>source</th>\n",
              "            <th>destination</th>\n",
              "            <th>name</th>\n",
              "        </tr>\n",
              "    </thead>\n",
              "    <tbody>\n",
              "        <tr>\n",
              "            <td>2.5</td>\n",
              "            <td>1.0</td>\n",
              "            <td>2018-12-13 16:53:20</td>\n",
              "            <td>Boston University</td>\n",
              "            <td>Back Bay</td>\n",
              "            <td>Shared</td>\n",
              "        </tr>\n",
              "    </tbody>\n",
              "</table>"
            ]
          },
          "metadata": {},
          "execution_count": 19
        }
      ]
    },
    {
      "cell_type": "markdown",
      "source": [
        "Get weather data at the source "
      ],
      "metadata": {
        "id": "CbeHFeVX6KyY"
      }
    },
    {
      "cell_type": "code",
      "source": [
        "%%sql\n",
        "\n",
        "select datetime(time_stamp, 'unixepoch') date, temp,\tlocation,\tclouds,\tpressure,\train,\thumidity,\twind\n",
        "from weather\n",
        "where location = (select source from cab_rides where price = (select min(price) from cab_rides)) \n",
        "and datetime(time_stamp, 'unixepoch') <= (select datetime(time_stamp/1000, 'unixepoch') date from cab_rides where price = (select min(price) from cab_rides))\n",
        "order by date desc limit 10"
      ],
      "metadata": {
        "colab": {
          "base_uri": "https://localhost:8080/",
          "height": 289
        },
        "id": "mT_TD8IydYKl",
        "outputId": "a09da8d3-eb67-46e3-f5a4-fef60095f20d"
      },
      "execution_count": 23,
      "outputs": [
        {
          "output_type": "stream",
          "name": "stdout",
          "text": [
            " * sqlite://\n",
            "Done.\n"
          ]
        },
        {
          "output_type": "execute_result",
          "data": {
            "text/plain": [
              "[('2018-12-13 16:45:02', 28.46, 'Boston University', 0.24, 1033.35, None, 0.56, 1.98),\n",
              " ('2018-12-13 15:45:01', 25.88, 'Boston University', 0.53, 1033.66, None, 0.58, 2.73),\n",
              " ('2018-12-13 14:45:02', 23.63, 'Boston University', 0.34, 1034.01, None, 0.61, 2.97),\n",
              " ('2018-12-13 13:45:02', 21.36, 'Boston University', 0.2, 1033.72, None, 0.6, 2.85),\n",
              " ('2018-12-13 12:45:02', 20.4, 'Boston University', 0.28, 1032.54, None, 0.62, 2.96),\n",
              " ('2018-12-13 11:45:01', 20.13, 'Boston University', 0.45, 1031.72, None, 0.62, 2.73),\n",
              " ('2018-12-13 10:45:01', 19.73, 'Boston University', 0.43, 1031.08, None, 0.63, 3.65),\n",
              " ('2018-12-13 09:45:01', 19.62, 'Boston University', 0.39, 1030.72, None, 0.64, 3.7),\n",
              " ('2018-12-13 08:45:01', 19.78, 'Boston University', 0.61, 1030.21, None, 0.61, 3.56),\n",
              " ('2018-12-13 07:45:01', 20.24, 'Boston University', 0.5, 1029.46, None, 0.59, 3.45)]"
            ],
            "text/html": [
              "<table>\n",
              "    <thead>\n",
              "        <tr>\n",
              "            <th>date</th>\n",
              "            <th>temp</th>\n",
              "            <th>location</th>\n",
              "            <th>clouds</th>\n",
              "            <th>pressure</th>\n",
              "            <th>rain</th>\n",
              "            <th>humidity</th>\n",
              "            <th>wind</th>\n",
              "        </tr>\n",
              "    </thead>\n",
              "    <tbody>\n",
              "        <tr>\n",
              "            <td>2018-12-13 16:45:02</td>\n",
              "            <td>28.46</td>\n",
              "            <td>Boston University</td>\n",
              "            <td>0.24</td>\n",
              "            <td>1033.35</td>\n",
              "            <td>None</td>\n",
              "            <td>0.56</td>\n",
              "            <td>1.98</td>\n",
              "        </tr>\n",
              "        <tr>\n",
              "            <td>2018-12-13 15:45:01</td>\n",
              "            <td>25.88</td>\n",
              "            <td>Boston University</td>\n",
              "            <td>0.53</td>\n",
              "            <td>1033.66</td>\n",
              "            <td>None</td>\n",
              "            <td>0.58</td>\n",
              "            <td>2.73</td>\n",
              "        </tr>\n",
              "        <tr>\n",
              "            <td>2018-12-13 14:45:02</td>\n",
              "            <td>23.63</td>\n",
              "            <td>Boston University</td>\n",
              "            <td>0.34</td>\n",
              "            <td>1034.01</td>\n",
              "            <td>None</td>\n",
              "            <td>0.61</td>\n",
              "            <td>2.97</td>\n",
              "        </tr>\n",
              "        <tr>\n",
              "            <td>2018-12-13 13:45:02</td>\n",
              "            <td>21.36</td>\n",
              "            <td>Boston University</td>\n",
              "            <td>0.2</td>\n",
              "            <td>1033.72</td>\n",
              "            <td>None</td>\n",
              "            <td>0.6</td>\n",
              "            <td>2.85</td>\n",
              "        </tr>\n",
              "        <tr>\n",
              "            <td>2018-12-13 12:45:02</td>\n",
              "            <td>20.4</td>\n",
              "            <td>Boston University</td>\n",
              "            <td>0.28</td>\n",
              "            <td>1032.54</td>\n",
              "            <td>None</td>\n",
              "            <td>0.62</td>\n",
              "            <td>2.96</td>\n",
              "        </tr>\n",
              "        <tr>\n",
              "            <td>2018-12-13 11:45:01</td>\n",
              "            <td>20.13</td>\n",
              "            <td>Boston University</td>\n",
              "            <td>0.45</td>\n",
              "            <td>1031.72</td>\n",
              "            <td>None</td>\n",
              "            <td>0.62</td>\n",
              "            <td>2.73</td>\n",
              "        </tr>\n",
              "        <tr>\n",
              "            <td>2018-12-13 10:45:01</td>\n",
              "            <td>19.73</td>\n",
              "            <td>Boston University</td>\n",
              "            <td>0.43</td>\n",
              "            <td>1031.08</td>\n",
              "            <td>None</td>\n",
              "            <td>0.63</td>\n",
              "            <td>3.65</td>\n",
              "        </tr>\n",
              "        <tr>\n",
              "            <td>2018-12-13 09:45:01</td>\n",
              "            <td>19.62</td>\n",
              "            <td>Boston University</td>\n",
              "            <td>0.39</td>\n",
              "            <td>1030.72</td>\n",
              "            <td>None</td>\n",
              "            <td>0.64</td>\n",
              "            <td>3.7</td>\n",
              "        </tr>\n",
              "        <tr>\n",
              "            <td>2018-12-13 08:45:01</td>\n",
              "            <td>19.78</td>\n",
              "            <td>Boston University</td>\n",
              "            <td>0.61</td>\n",
              "            <td>1030.21</td>\n",
              "            <td>None</td>\n",
              "            <td>0.61</td>\n",
              "            <td>3.56</td>\n",
              "        </tr>\n",
              "        <tr>\n",
              "            <td>2018-12-13 07:45:01</td>\n",
              "            <td>20.24</td>\n",
              "            <td>Boston University</td>\n",
              "            <td>0.5</td>\n",
              "            <td>1029.46</td>\n",
              "            <td>None</td>\n",
              "            <td>0.59</td>\n",
              "            <td>3.45</td>\n",
              "        </tr>\n",
              "    </tbody>\n",
              "</table>"
            ]
          },
          "metadata": {},
          "execution_count": 23
        }
      ]
    },
    {
      "cell_type": "markdown",
      "source": [
        "Get weather data at the destination"
      ],
      "metadata": {
        "id": "6ntOxvfMclcx"
      }
    },
    {
      "cell_type": "code",
      "source": [
        "%%sql\n",
        "\n",
        "select datetime(time_stamp, 'unixepoch') date, temp,\tlocation,\tclouds,\tpressure,\train,\thumidity,\twind\n",
        "from weather\n",
        "where location = (select destination from cab_rides where price = (select min(price) from cab_rides)) \n",
        "and datetime(time_stamp, 'unixepoch') <= (select datetime(time_stamp/1000, 'unixepoch') date from cab_rides where price = (select min(price) from cab_rides))\n",
        "order by date desc limit 10"
      ],
      "metadata": {
        "colab": {
          "base_uri": "https://localhost:8080/",
          "height": 289
        },
        "id": "ebkpmIHPdjOs",
        "outputId": "6ea5766a-037e-4486-e41d-3d12f4923f95"
      },
      "execution_count": 24,
      "outputs": [
        {
          "output_type": "stream",
          "name": "stdout",
          "text": [
            " * sqlite://\n",
            "Done.\n"
          ]
        },
        {
          "output_type": "execute_result",
          "data": {
            "text/plain": [
              "[('2018-12-13 16:45:02', 28.62, 'Back Bay', 0.25, 1033.35, None, 0.56, 2.07),\n",
              " ('2018-12-13 15:45:01', 26.16, 'Back Bay', 0.53, 1033.65, None, 0.58, 2.78),\n",
              " ('2018-12-13 14:45:01', 23.83, 'Back Bay', 0.33, 1034.01, None, 0.61, 3.0),\n",
              " ('2018-12-13 13:45:01', 21.41, 'Back Bay', 0.2, 1033.72, None, 0.6, 2.88),\n",
              " ('2018-12-13 12:45:01', 20.51, 'Back Bay', 0.28, 1032.53, None, 0.62, 3.04),\n",
              " ('2018-12-13 11:45:01', 20.26, 'Back Bay', 0.45, 1031.72, None, 0.63, 2.79),\n",
              " ('2018-12-13 10:45:01', 19.97, 'Back Bay', 0.43, 1031.07, None, 0.63, 3.74),\n",
              " ('2018-12-13 09:45:01', 19.92, 'Back Bay', 0.39, 1030.71, None, 0.64, 3.81),\n",
              " ('2018-12-13 08:45:01', 20.05, 'Back Bay', 0.62, 1030.2, None, 0.61, 3.65),\n",
              " ('2018-12-13 07:45:01', 20.49, 'Back Bay', 0.51, 1029.45, None, 0.59, 3.54)]"
            ],
            "text/html": [
              "<table>\n",
              "    <thead>\n",
              "        <tr>\n",
              "            <th>date</th>\n",
              "            <th>temp</th>\n",
              "            <th>location</th>\n",
              "            <th>clouds</th>\n",
              "            <th>pressure</th>\n",
              "            <th>rain</th>\n",
              "            <th>humidity</th>\n",
              "            <th>wind</th>\n",
              "        </tr>\n",
              "    </thead>\n",
              "    <tbody>\n",
              "        <tr>\n",
              "            <td>2018-12-13 16:45:02</td>\n",
              "            <td>28.62</td>\n",
              "            <td>Back Bay</td>\n",
              "            <td>0.25</td>\n",
              "            <td>1033.35</td>\n",
              "            <td>None</td>\n",
              "            <td>0.56</td>\n",
              "            <td>2.07</td>\n",
              "        </tr>\n",
              "        <tr>\n",
              "            <td>2018-12-13 15:45:01</td>\n",
              "            <td>26.16</td>\n",
              "            <td>Back Bay</td>\n",
              "            <td>0.53</td>\n",
              "            <td>1033.65</td>\n",
              "            <td>None</td>\n",
              "            <td>0.58</td>\n",
              "            <td>2.78</td>\n",
              "        </tr>\n",
              "        <tr>\n",
              "            <td>2018-12-13 14:45:01</td>\n",
              "            <td>23.83</td>\n",
              "            <td>Back Bay</td>\n",
              "            <td>0.33</td>\n",
              "            <td>1034.01</td>\n",
              "            <td>None</td>\n",
              "            <td>0.61</td>\n",
              "            <td>3.0</td>\n",
              "        </tr>\n",
              "        <tr>\n",
              "            <td>2018-12-13 13:45:01</td>\n",
              "            <td>21.41</td>\n",
              "            <td>Back Bay</td>\n",
              "            <td>0.2</td>\n",
              "            <td>1033.72</td>\n",
              "            <td>None</td>\n",
              "            <td>0.6</td>\n",
              "            <td>2.88</td>\n",
              "        </tr>\n",
              "        <tr>\n",
              "            <td>2018-12-13 12:45:01</td>\n",
              "            <td>20.51</td>\n",
              "            <td>Back Bay</td>\n",
              "            <td>0.28</td>\n",
              "            <td>1032.53</td>\n",
              "            <td>None</td>\n",
              "            <td>0.62</td>\n",
              "            <td>3.04</td>\n",
              "        </tr>\n",
              "        <tr>\n",
              "            <td>2018-12-13 11:45:01</td>\n",
              "            <td>20.26</td>\n",
              "            <td>Back Bay</td>\n",
              "            <td>0.45</td>\n",
              "            <td>1031.72</td>\n",
              "            <td>None</td>\n",
              "            <td>0.63</td>\n",
              "            <td>2.79</td>\n",
              "        </tr>\n",
              "        <tr>\n",
              "            <td>2018-12-13 10:45:01</td>\n",
              "            <td>19.97</td>\n",
              "            <td>Back Bay</td>\n",
              "            <td>0.43</td>\n",
              "            <td>1031.07</td>\n",
              "            <td>None</td>\n",
              "            <td>0.63</td>\n",
              "            <td>3.74</td>\n",
              "        </tr>\n",
              "        <tr>\n",
              "            <td>2018-12-13 09:45:01</td>\n",
              "            <td>19.92</td>\n",
              "            <td>Back Bay</td>\n",
              "            <td>0.39</td>\n",
              "            <td>1030.71</td>\n",
              "            <td>None</td>\n",
              "            <td>0.64</td>\n",
              "            <td>3.81</td>\n",
              "        </tr>\n",
              "        <tr>\n",
              "            <td>2018-12-13 08:45:01</td>\n",
              "            <td>20.05</td>\n",
              "            <td>Back Bay</td>\n",
              "            <td>0.62</td>\n",
              "            <td>1030.2</td>\n",
              "            <td>None</td>\n",
              "            <td>0.61</td>\n",
              "            <td>3.65</td>\n",
              "        </tr>\n",
              "        <tr>\n",
              "            <td>2018-12-13 07:45:01</td>\n",
              "            <td>20.49</td>\n",
              "            <td>Back Bay</td>\n",
              "            <td>0.51</td>\n",
              "            <td>1029.45</td>\n",
              "            <td>None</td>\n",
              "            <td>0.59</td>\n",
              "            <td>3.54</td>\n",
              "        </tr>\n",
              "    </tbody>\n",
              "</table>"
            ]
          },
          "metadata": {},
          "execution_count": 24
        }
      ]
    },
    {
      "cell_type": "markdown",
      "source": [
        "**Observations**\n",
        "1. Around the time when the price was the lowest, there was no rain at both the source and the destination"
      ],
      "metadata": {
        "id": "HCliE7zC7naE"
      }
    },
    {
      "cell_type": "markdown",
      "source": [
        "#### What was the weather like when the surge multiplier was the highest?"
      ],
      "metadata": {
        "id": "SZJdtRya9ECU"
      }
    },
    {
      "cell_type": "markdown",
      "source": [
        "Get a glimpse of rides data when surge multiplier was maximum"
      ],
      "metadata": {
        "id": "5qhX9ZoKd_4g"
      }
    },
    {
      "cell_type": "code",
      "source": [
        "%%sql\n",
        "select max(surge_multiplier) as surge_multiplier, price, datetime(time_stamp/1000, 'unixepoch') date, source, destination, name\n",
        "from cab_rides;"
      ],
      "metadata": {
        "colab": {
          "base_uri": "https://localhost:8080/",
          "height": 97
        },
        "id": "3zU1cUjjeHGw",
        "outputId": "57fb08a0-6421-401c-f8a3-8b8f1f330b57"
      },
      "execution_count": 26,
      "outputs": [
        {
          "output_type": "stream",
          "name": "stdout",
          "text": [
            " * sqlite://\n",
            "Done.\n"
          ]
        },
        {
          "output_type": "execute_result",
          "data": {
            "text/plain": [
              "[(2.0, 42.5, '2018-12-02 05:53:20', 'South Station', 'Back Bay', 'Lyft XL')]"
            ],
            "text/html": [
              "<table>\n",
              "    <thead>\n",
              "        <tr>\n",
              "            <th>surge_multiplier</th>\n",
              "            <th>price</th>\n",
              "            <th>date</th>\n",
              "            <th>source</th>\n",
              "            <th>destination</th>\n",
              "            <th>name</th>\n",
              "        </tr>\n",
              "    </thead>\n",
              "    <tbody>\n",
              "        <tr>\n",
              "            <td>2.0</td>\n",
              "            <td>42.5</td>\n",
              "            <td>2018-12-02 05:53:20</td>\n",
              "            <td>South Station</td>\n",
              "            <td>Back Bay</td>\n",
              "            <td>Lyft XL</td>\n",
              "        </tr>\n",
              "    </tbody>\n",
              "</table>"
            ]
          },
          "metadata": {},
          "execution_count": 26
        }
      ]
    },
    {
      "cell_type": "markdown",
      "source": [
        "Get weather data at the source"
      ],
      "metadata": {
        "id": "qvMbg7cIegXj"
      }
    },
    {
      "cell_type": "code",
      "source": [
        "%%sql\n",
        "\n",
        "select datetime(time_stamp, 'unixepoch') date, temp,\tlocation,\tclouds,\tpressure,\train,\thumidity,\twind\n",
        "from weather\n",
        "where location = (select source from cab_rides where surge_multiplier = (select max(surge_multiplier) from cab_rides))\n",
        "and datetime(time_stamp, 'unixepoch') <= (select datetime(time_stamp/1000, 'unixepoch') date from cab_rides where surge_multiplier = (select max(surge_multiplier) from cab_rides))\n",
        "order by date desc limit 10"
      ],
      "metadata": {
        "colab": {
          "base_uri": "https://localhost:8080/",
          "height": 289
        },
        "id": "Pds4JRBNfE3Q",
        "outputId": "7c7c5ddc-a429-4d34-9479-edfc20f1cb7c"
      },
      "execution_count": 33,
      "outputs": [
        {
          "output_type": "stream",
          "name": "stdout",
          "text": [
            " * sqlite://\n",
            "Done.\n"
          ]
        },
        {
          "output_type": "execute_result",
          "data": {
            "text/plain": [
              "[('2018-12-02 05:52:54', 37.09, 'South Station', 0.82, 1021.65, None, 0.85, 1.63),\n",
              " ('2018-12-02 04:52:54', 36.7, 'South Station', 0.9, 1022.66, None, 0.84, 1.03),\n",
              " ('2018-12-02 03:52:55', 36.84, 'South Station', 0.38, 1022.89, None, 0.81, 0.3),\n",
              " ('2018-12-02 02:52:54', 36.05, 'South Station', 0.53, 1023.46, None, 0.82, 1.63),\n",
              " ('2018-12-02 01:52:54', 35.84, 'South Station', 0.2, 1023.75, None, 0.81, 1.39),\n",
              " ('2018-12-02 00:52:54', 35.72, 'South Station', 0.2, 1024.2, None, 0.78, 1.9),\n",
              " ('2018-12-01 23:52:55', 35.53, 'South Station', 0.4, 1023.64, None, 0.8, 2.52),\n",
              " ('2018-12-01 22:52:56', 38.55, 'South Station', 0.54, 1023.52, None, 0.7, 2.34),\n",
              " ('2018-12-01 21:52:54', 40.36, 'South Station', 0.57, 1023.46, None, 0.64, 2.67),\n",
              " ('2018-12-01 20:52:54', 41.35, 'South Station', 0.65, 1023.18, None, 0.62, 1.79)]"
            ],
            "text/html": [
              "<table>\n",
              "    <thead>\n",
              "        <tr>\n",
              "            <th>date</th>\n",
              "            <th>temp</th>\n",
              "            <th>location</th>\n",
              "            <th>clouds</th>\n",
              "            <th>pressure</th>\n",
              "            <th>rain</th>\n",
              "            <th>humidity</th>\n",
              "            <th>wind</th>\n",
              "        </tr>\n",
              "    </thead>\n",
              "    <tbody>\n",
              "        <tr>\n",
              "            <td>2018-12-02 05:52:54</td>\n",
              "            <td>37.09</td>\n",
              "            <td>South Station</td>\n",
              "            <td>0.82</td>\n",
              "            <td>1021.65</td>\n",
              "            <td>None</td>\n",
              "            <td>0.85</td>\n",
              "            <td>1.63</td>\n",
              "        </tr>\n",
              "        <tr>\n",
              "            <td>2018-12-02 04:52:54</td>\n",
              "            <td>36.7</td>\n",
              "            <td>South Station</td>\n",
              "            <td>0.9</td>\n",
              "            <td>1022.66</td>\n",
              "            <td>None</td>\n",
              "            <td>0.84</td>\n",
              "            <td>1.03</td>\n",
              "        </tr>\n",
              "        <tr>\n",
              "            <td>2018-12-02 03:52:55</td>\n",
              "            <td>36.84</td>\n",
              "            <td>South Station</td>\n",
              "            <td>0.38</td>\n",
              "            <td>1022.89</td>\n",
              "            <td>None</td>\n",
              "            <td>0.81</td>\n",
              "            <td>0.3</td>\n",
              "        </tr>\n",
              "        <tr>\n",
              "            <td>2018-12-02 02:52:54</td>\n",
              "            <td>36.05</td>\n",
              "            <td>South Station</td>\n",
              "            <td>0.53</td>\n",
              "            <td>1023.46</td>\n",
              "            <td>None</td>\n",
              "            <td>0.82</td>\n",
              "            <td>1.63</td>\n",
              "        </tr>\n",
              "        <tr>\n",
              "            <td>2018-12-02 01:52:54</td>\n",
              "            <td>35.84</td>\n",
              "            <td>South Station</td>\n",
              "            <td>0.2</td>\n",
              "            <td>1023.75</td>\n",
              "            <td>None</td>\n",
              "            <td>0.81</td>\n",
              "            <td>1.39</td>\n",
              "        </tr>\n",
              "        <tr>\n",
              "            <td>2018-12-02 00:52:54</td>\n",
              "            <td>35.72</td>\n",
              "            <td>South Station</td>\n",
              "            <td>0.2</td>\n",
              "            <td>1024.2</td>\n",
              "            <td>None</td>\n",
              "            <td>0.78</td>\n",
              "            <td>1.9</td>\n",
              "        </tr>\n",
              "        <tr>\n",
              "            <td>2018-12-01 23:52:55</td>\n",
              "            <td>35.53</td>\n",
              "            <td>South Station</td>\n",
              "            <td>0.4</td>\n",
              "            <td>1023.64</td>\n",
              "            <td>None</td>\n",
              "            <td>0.8</td>\n",
              "            <td>2.52</td>\n",
              "        </tr>\n",
              "        <tr>\n",
              "            <td>2018-12-01 22:52:56</td>\n",
              "            <td>38.55</td>\n",
              "            <td>South Station</td>\n",
              "            <td>0.54</td>\n",
              "            <td>1023.52</td>\n",
              "            <td>None</td>\n",
              "            <td>0.7</td>\n",
              "            <td>2.34</td>\n",
              "        </tr>\n",
              "        <tr>\n",
              "            <td>2018-12-01 21:52:54</td>\n",
              "            <td>40.36</td>\n",
              "            <td>South Station</td>\n",
              "            <td>0.57</td>\n",
              "            <td>1023.46</td>\n",
              "            <td>None</td>\n",
              "            <td>0.64</td>\n",
              "            <td>2.67</td>\n",
              "        </tr>\n",
              "        <tr>\n",
              "            <td>2018-12-01 20:52:54</td>\n",
              "            <td>41.35</td>\n",
              "            <td>South Station</td>\n",
              "            <td>0.65</td>\n",
              "            <td>1023.18</td>\n",
              "            <td>None</td>\n",
              "            <td>0.62</td>\n",
              "            <td>1.79</td>\n",
              "        </tr>\n",
              "    </tbody>\n",
              "</table>"
            ]
          },
          "metadata": {},
          "execution_count": 33
        }
      ]
    },
    {
      "cell_type": "markdown",
      "source": [
        "Get weather data at the destination"
      ],
      "metadata": {
        "id": "E6NWnKlkgIh6"
      }
    },
    {
      "cell_type": "code",
      "source": [
        "%%sql\n",
        "\n",
        "select datetime(time_stamp, 'unixepoch') date, temp,\tlocation,\tclouds,\tpressure,\train,\thumidity,\twind\n",
        "from weather\n",
        "where location = (select destination from cab_rides where surge_multiplier = (select max(surge_multiplier) from cab_rides))\n",
        "and datetime(time_stamp, 'unixepoch') <= (select datetime(time_stamp/1000, 'unixepoch') date from cab_rides where surge_multiplier = (select max(surge_multiplier) from cab_rides))\n",
        "order by date desc limit 10"
      ],
      "metadata": {
        "colab": {
          "base_uri": "https://localhost:8080/",
          "height": 289
        },
        "id": "ahJ80O6mgKz2",
        "outputId": "73b1e8d2-535b-4cf3-baaa-7720bc9b7994"
      },
      "execution_count": 34,
      "outputs": [
        {
          "output_type": "stream",
          "name": "stdout",
          "text": [
            " * sqlite://\n",
            "Done.\n"
          ]
        },
        {
          "output_type": "execute_result",
          "data": {
            "text/plain": [
              "[('2018-12-02 05:52:54', 37.03, 'Back Bay', 0.83, 1021.65, None, 0.84, 1.56),\n",
              " ('2018-12-02 04:52:54', 36.65, 'Back Bay', 0.91, 1022.66, None, 0.84, 1.07),\n",
              " ('2018-12-02 03:52:54', 36.75, 'Back Bay', 0.36, 1022.88, None, 0.81, 0.3),\n",
              " ('2018-12-02 02:52:54', 35.99, 'Back Bay', 0.54, 1023.47, None, 0.81, 1.48),\n",
              " ('2018-12-02 01:52:54', 35.79, 'Back Bay', 0.19, 1023.76, None, 0.81, 1.36),\n",
              " ('2018-12-02 00:52:54', 35.67, 'Back Bay', 0.2, 1024.2, None, 0.78, 1.85),\n",
              " ('2018-12-01 23:52:54', 36.78, 'Back Bay', 0.42, 1023.64, None, 0.76, 2.47),\n",
              " ('2018-12-01 22:52:54', 37.99, 'Back Bay', 0.54, 1023.52, None, 0.71, 2.37),\n",
              " ('2018-12-01 21:52:54', 39.89, 'Back Bay', 0.57, 1023.45, None, 0.65, 2.66),\n",
              " ('2018-12-01 20:52:54', 41.01, 'Back Bay', 0.65, 1023.18, None, 0.63, 1.79)]"
            ],
            "text/html": [
              "<table>\n",
              "    <thead>\n",
              "        <tr>\n",
              "            <th>date</th>\n",
              "            <th>temp</th>\n",
              "            <th>location</th>\n",
              "            <th>clouds</th>\n",
              "            <th>pressure</th>\n",
              "            <th>rain</th>\n",
              "            <th>humidity</th>\n",
              "            <th>wind</th>\n",
              "        </tr>\n",
              "    </thead>\n",
              "    <tbody>\n",
              "        <tr>\n",
              "            <td>2018-12-02 05:52:54</td>\n",
              "            <td>37.03</td>\n",
              "            <td>Back Bay</td>\n",
              "            <td>0.83</td>\n",
              "            <td>1021.65</td>\n",
              "            <td>None</td>\n",
              "            <td>0.84</td>\n",
              "            <td>1.56</td>\n",
              "        </tr>\n",
              "        <tr>\n",
              "            <td>2018-12-02 04:52:54</td>\n",
              "            <td>36.65</td>\n",
              "            <td>Back Bay</td>\n",
              "            <td>0.91</td>\n",
              "            <td>1022.66</td>\n",
              "            <td>None</td>\n",
              "            <td>0.84</td>\n",
              "            <td>1.07</td>\n",
              "        </tr>\n",
              "        <tr>\n",
              "            <td>2018-12-02 03:52:54</td>\n",
              "            <td>36.75</td>\n",
              "            <td>Back Bay</td>\n",
              "            <td>0.36</td>\n",
              "            <td>1022.88</td>\n",
              "            <td>None</td>\n",
              "            <td>0.81</td>\n",
              "            <td>0.3</td>\n",
              "        </tr>\n",
              "        <tr>\n",
              "            <td>2018-12-02 02:52:54</td>\n",
              "            <td>35.99</td>\n",
              "            <td>Back Bay</td>\n",
              "            <td>0.54</td>\n",
              "            <td>1023.47</td>\n",
              "            <td>None</td>\n",
              "            <td>0.81</td>\n",
              "            <td>1.48</td>\n",
              "        </tr>\n",
              "        <tr>\n",
              "            <td>2018-12-02 01:52:54</td>\n",
              "            <td>35.79</td>\n",
              "            <td>Back Bay</td>\n",
              "            <td>0.19</td>\n",
              "            <td>1023.76</td>\n",
              "            <td>None</td>\n",
              "            <td>0.81</td>\n",
              "            <td>1.36</td>\n",
              "        </tr>\n",
              "        <tr>\n",
              "            <td>2018-12-02 00:52:54</td>\n",
              "            <td>35.67</td>\n",
              "            <td>Back Bay</td>\n",
              "            <td>0.2</td>\n",
              "            <td>1024.2</td>\n",
              "            <td>None</td>\n",
              "            <td>0.78</td>\n",
              "            <td>1.85</td>\n",
              "        </tr>\n",
              "        <tr>\n",
              "            <td>2018-12-01 23:52:54</td>\n",
              "            <td>36.78</td>\n",
              "            <td>Back Bay</td>\n",
              "            <td>0.42</td>\n",
              "            <td>1023.64</td>\n",
              "            <td>None</td>\n",
              "            <td>0.76</td>\n",
              "            <td>2.47</td>\n",
              "        </tr>\n",
              "        <tr>\n",
              "            <td>2018-12-01 22:52:54</td>\n",
              "            <td>37.99</td>\n",
              "            <td>Back Bay</td>\n",
              "            <td>0.54</td>\n",
              "            <td>1023.52</td>\n",
              "            <td>None</td>\n",
              "            <td>0.71</td>\n",
              "            <td>2.37</td>\n",
              "        </tr>\n",
              "        <tr>\n",
              "            <td>2018-12-01 21:52:54</td>\n",
              "            <td>39.89</td>\n",
              "            <td>Back Bay</td>\n",
              "            <td>0.57</td>\n",
              "            <td>1023.45</td>\n",
              "            <td>None</td>\n",
              "            <td>0.65</td>\n",
              "            <td>2.66</td>\n",
              "        </tr>\n",
              "        <tr>\n",
              "            <td>2018-12-01 20:52:54</td>\n",
              "            <td>41.01</td>\n",
              "            <td>Back Bay</td>\n",
              "            <td>0.65</td>\n",
              "            <td>1023.18</td>\n",
              "            <td>None</td>\n",
              "            <td>0.63</td>\n",
              "            <td>1.79</td>\n",
              "        </tr>\n",
              "    </tbody>\n",
              "</table>"
            ]
          },
          "metadata": {},
          "execution_count": 34
        }
      ]
    },
    {
      "cell_type": "markdown",
      "source": [
        "**Observations**\n",
        "1. There were no noticeable weather conditions when the surge multiplier was at its highest\n",
        "2. The surge multiplier was at it's highest at 5 AM"
      ],
      "metadata": {
        "id": "uEyWyemf1sC6"
      }
    },
    {
      "cell_type": "markdown",
      "source": [
        "#### What was the weather like when the surge multiplier was the lowest?"
      ],
      "metadata": {
        "id": "GipddTG1kAyA"
      }
    },
    {
      "cell_type": "markdown",
      "source": [
        "Get a glimpse of rides data when surge multiplier was minimum"
      ],
      "metadata": {
        "id": "2ufmWTudkAyH"
      }
    },
    {
      "cell_type": "code",
      "source": [
        "%%sql\n",
        "select min(surge_multiplier) as surge_multiplier, price, datetime(time_stamp/1000, 'unixepoch') date, source, destination, name\n",
        "from cab_rides;"
      ],
      "metadata": {
        "colab": {
          "base_uri": "https://localhost:8080/",
          "height": 97
        },
        "outputId": "52c383a2-fca6-4f76-e637-216d365e6e0f",
        "id": "wNhegQPOkAyH"
      },
      "execution_count": 35,
      "outputs": [
        {
          "output_type": "stream",
          "name": "stdout",
          "text": [
            " * sqlite://\n",
            "Done.\n"
          ]
        },
        {
          "output_type": "execute_result",
          "data": {
            "text/plain": [
              "[(1.0, 5.0, '2018-12-16 08:46:40', 'Haymarket Square', 'North Station', 'Shared')]"
            ],
            "text/html": [
              "<table>\n",
              "    <thead>\n",
              "        <tr>\n",
              "            <th>surge_multiplier</th>\n",
              "            <th>price</th>\n",
              "            <th>date</th>\n",
              "            <th>source</th>\n",
              "            <th>destination</th>\n",
              "            <th>name</th>\n",
              "        </tr>\n",
              "    </thead>\n",
              "    <tbody>\n",
              "        <tr>\n",
              "            <td>1.0</td>\n",
              "            <td>5.0</td>\n",
              "            <td>2018-12-16 08:46:40</td>\n",
              "            <td>Haymarket Square</td>\n",
              "            <td>North Station</td>\n",
              "            <td>Shared</td>\n",
              "        </tr>\n",
              "    </tbody>\n",
              "</table>"
            ]
          },
          "metadata": {},
          "execution_count": 35
        }
      ]
    },
    {
      "cell_type": "markdown",
      "source": [
        "Get weather data at the source"
      ],
      "metadata": {
        "id": "VW0oNvLJkAyI"
      }
    },
    {
      "cell_type": "code",
      "source": [
        "%%sql\n",
        "\n",
        "select datetime(time_stamp, 'unixepoch') date, temp,\tlocation,\tclouds,\tpressure,\train,\thumidity,\twind\n",
        "from weather\n",
        "where location = (select source from cab_rides where surge_multiplier = (select min(surge_multiplier) from cab_rides))\n",
        "and datetime(time_stamp, 'unixepoch') <= (select datetime(time_stamp/1000, 'unixepoch') date from cab_rides where surge_multiplier = (select min(surge_multiplier) from cab_rides))\n",
        "order by date desc limit 10"
      ],
      "metadata": {
        "colab": {
          "base_uri": "https://localhost:8080/",
          "height": 289
        },
        "outputId": "90b0ddf6-d85c-45bb-8a03-4ee49c96081f",
        "id": "p1xeYiIZkAyI"
      },
      "execution_count": 36,
      "outputs": [
        {
          "output_type": "stream",
          "name": "stdout",
          "text": [
            " * sqlite://\n",
            "Done.\n"
          ]
        },
        {
          "output_type": "execute_result",
          "data": {
            "text/plain": [
              "[('2018-12-16 08:45:01', 39.36, 'Haymarket Square', 0.39, 1022.44, None, 0.74, 8.14),\n",
              " ('2018-12-16 07:45:01', 39.38, 'Haymarket Square', 0.44, 1022.81, None, 0.74, 7.24),\n",
              " ('2018-12-16 06:45:01', 39.25, 'Haymarket Square', 0.42, 1023.44, None, 0.73, 7.3),\n",
              " ('2018-12-16 05:45:01', 40.15, 'Haymarket Square', 0.41, 1023.5, None, 0.7, 7.82),\n",
              " ('2018-12-16 04:45:01', 39.57, 'Haymarket Square', 0.44, 1023.97, None, 0.71, 7.27),\n",
              " ('2018-12-16 03:45:01', 40.62, 'Haymarket Square', 0.55, 1024.65, None, 0.71, 6.61),\n",
              " ('2018-12-16 02:45:01', 40.99, 'Haymarket Square', 0.4, 1024.49, None, 0.71, 6.38),\n",
              " ('2018-12-16 01:45:01', 41.68, 'Haymarket Square', 0.44, 1023.68, None, 0.71, 6.28),\n",
              " ('2018-12-16 00:45:01', 42.75, 'Haymarket Square', 0.17, 1023.04, None, 0.71, 6.45),\n",
              " ('2018-12-15 23:45:01', 44.1, 'Haymarket Square', 0.34, 1022.05, None, 0.7, 7.98)]"
            ],
            "text/html": [
              "<table>\n",
              "    <thead>\n",
              "        <tr>\n",
              "            <th>date</th>\n",
              "            <th>temp</th>\n",
              "            <th>location</th>\n",
              "            <th>clouds</th>\n",
              "            <th>pressure</th>\n",
              "            <th>rain</th>\n",
              "            <th>humidity</th>\n",
              "            <th>wind</th>\n",
              "        </tr>\n",
              "    </thead>\n",
              "    <tbody>\n",
              "        <tr>\n",
              "            <td>2018-12-16 08:45:01</td>\n",
              "            <td>39.36</td>\n",
              "            <td>Haymarket Square</td>\n",
              "            <td>0.39</td>\n",
              "            <td>1022.44</td>\n",
              "            <td>None</td>\n",
              "            <td>0.74</td>\n",
              "            <td>8.14</td>\n",
              "        </tr>\n",
              "        <tr>\n",
              "            <td>2018-12-16 07:45:01</td>\n",
              "            <td>39.38</td>\n",
              "            <td>Haymarket Square</td>\n",
              "            <td>0.44</td>\n",
              "            <td>1022.81</td>\n",
              "            <td>None</td>\n",
              "            <td>0.74</td>\n",
              "            <td>7.24</td>\n",
              "        </tr>\n",
              "        <tr>\n",
              "            <td>2018-12-16 06:45:01</td>\n",
              "            <td>39.25</td>\n",
              "            <td>Haymarket Square</td>\n",
              "            <td>0.42</td>\n",
              "            <td>1023.44</td>\n",
              "            <td>None</td>\n",
              "            <td>0.73</td>\n",
              "            <td>7.3</td>\n",
              "        </tr>\n",
              "        <tr>\n",
              "            <td>2018-12-16 05:45:01</td>\n",
              "            <td>40.15</td>\n",
              "            <td>Haymarket Square</td>\n",
              "            <td>0.41</td>\n",
              "            <td>1023.5</td>\n",
              "            <td>None</td>\n",
              "            <td>0.7</td>\n",
              "            <td>7.82</td>\n",
              "        </tr>\n",
              "        <tr>\n",
              "            <td>2018-12-16 04:45:01</td>\n",
              "            <td>39.57</td>\n",
              "            <td>Haymarket Square</td>\n",
              "            <td>0.44</td>\n",
              "            <td>1023.97</td>\n",
              "            <td>None</td>\n",
              "            <td>0.71</td>\n",
              "            <td>7.27</td>\n",
              "        </tr>\n",
              "        <tr>\n",
              "            <td>2018-12-16 03:45:01</td>\n",
              "            <td>40.62</td>\n",
              "            <td>Haymarket Square</td>\n",
              "            <td>0.55</td>\n",
              "            <td>1024.65</td>\n",
              "            <td>None</td>\n",
              "            <td>0.71</td>\n",
              "            <td>6.61</td>\n",
              "        </tr>\n",
              "        <tr>\n",
              "            <td>2018-12-16 02:45:01</td>\n",
              "            <td>40.99</td>\n",
              "            <td>Haymarket Square</td>\n",
              "            <td>0.4</td>\n",
              "            <td>1024.49</td>\n",
              "            <td>None</td>\n",
              "            <td>0.71</td>\n",
              "            <td>6.38</td>\n",
              "        </tr>\n",
              "        <tr>\n",
              "            <td>2018-12-16 01:45:01</td>\n",
              "            <td>41.68</td>\n",
              "            <td>Haymarket Square</td>\n",
              "            <td>0.44</td>\n",
              "            <td>1023.68</td>\n",
              "            <td>None</td>\n",
              "            <td>0.71</td>\n",
              "            <td>6.28</td>\n",
              "        </tr>\n",
              "        <tr>\n",
              "            <td>2018-12-16 00:45:01</td>\n",
              "            <td>42.75</td>\n",
              "            <td>Haymarket Square</td>\n",
              "            <td>0.17</td>\n",
              "            <td>1023.04</td>\n",
              "            <td>None</td>\n",
              "            <td>0.71</td>\n",
              "            <td>6.45</td>\n",
              "        </tr>\n",
              "        <tr>\n",
              "            <td>2018-12-15 23:45:01</td>\n",
              "            <td>44.1</td>\n",
              "            <td>Haymarket Square</td>\n",
              "            <td>0.34</td>\n",
              "            <td>1022.05</td>\n",
              "            <td>None</td>\n",
              "            <td>0.7</td>\n",
              "            <td>7.98</td>\n",
              "        </tr>\n",
              "    </tbody>\n",
              "</table>"
            ]
          },
          "metadata": {},
          "execution_count": 36
        }
      ]
    },
    {
      "cell_type": "markdown",
      "source": [
        "Get weather data at the destination"
      ],
      "metadata": {
        "id": "2M7baPJgkAyI"
      }
    },
    {
      "cell_type": "code",
      "source": [
        "%%sql\n",
        "\n",
        "select datetime(time_stamp, 'unixepoch') date, temp,\tlocation,\tclouds,\tpressure,\train,\thumidity,\twind\n",
        "from weather\n",
        "where location = (select destination from cab_rides where surge_multiplier = (select min(surge_multiplier) from cab_rides))\n",
        "and datetime(time_stamp, 'unixepoch') <= (select datetime(time_stamp/1000, 'unixepoch') date from cab_rides where surge_multiplier = (select min(surge_multiplier) from cab_rides))\n",
        "order by date desc limit 10"
      ],
      "metadata": {
        "colab": {
          "base_uri": "https://localhost:8080/",
          "height": 289
        },
        "outputId": "d6ce31f9-8664-4b79-91f5-b6f25ec88a44",
        "id": "KWyOXzTAkAyI"
      },
      "execution_count": 38,
      "outputs": [
        {
          "output_type": "stream",
          "name": "stdout",
          "text": [
            " * sqlite://\n",
            "Done.\n"
          ]
        },
        {
          "output_type": "execute_result",
          "data": {
            "text/plain": [
              "[('2018-12-16 08:45:01', 39.25, 'North Station', 0.39, 1022.44, None, 0.74, 8.09),\n",
              " ('2018-12-16 07:45:01', 39.3, 'North Station', 0.44, 1022.81, None, 0.74, 7.2),\n",
              " ('2018-12-16 06:45:01', 39.17, 'North Station', 0.42, 1023.44, None, 0.73, 7.23),\n",
              " ('2018-12-16 05:45:01', 40.08, 'North Station', 0.41, 1023.5, None, 0.7, 7.77),\n",
              " ('2018-12-16 04:45:02', 39.49, 'North Station', 0.45, 1023.97, None, 0.71, 7.21),\n",
              " ('2018-12-16 03:45:01', 40.54, 'North Station', 0.55, 1024.65, None, 0.71, 6.56),\n",
              " ('2018-12-16 02:45:01', 40.9, 'North Station', 0.4, 1024.5, None, 0.71, 6.35),\n",
              " ('2018-12-16 01:45:01', 41.63, 'North Station', 0.44, 1023.68, None, 0.72, 6.24),\n",
              " ('2018-12-16 00:45:01', 42.7, 'North Station', 0.17, 1023.05, None, 0.71, 6.4),\n",
              " ('2018-12-15 23:45:01', 44.0, 'North Station', 0.34, 1022.05, None, 0.7, 7.92)]"
            ],
            "text/html": [
              "<table>\n",
              "    <thead>\n",
              "        <tr>\n",
              "            <th>date</th>\n",
              "            <th>temp</th>\n",
              "            <th>location</th>\n",
              "            <th>clouds</th>\n",
              "            <th>pressure</th>\n",
              "            <th>rain</th>\n",
              "            <th>humidity</th>\n",
              "            <th>wind</th>\n",
              "        </tr>\n",
              "    </thead>\n",
              "    <tbody>\n",
              "        <tr>\n",
              "            <td>2018-12-16 08:45:01</td>\n",
              "            <td>39.25</td>\n",
              "            <td>North Station</td>\n",
              "            <td>0.39</td>\n",
              "            <td>1022.44</td>\n",
              "            <td>None</td>\n",
              "            <td>0.74</td>\n",
              "            <td>8.09</td>\n",
              "        </tr>\n",
              "        <tr>\n",
              "            <td>2018-12-16 07:45:01</td>\n",
              "            <td>39.3</td>\n",
              "            <td>North Station</td>\n",
              "            <td>0.44</td>\n",
              "            <td>1022.81</td>\n",
              "            <td>None</td>\n",
              "            <td>0.74</td>\n",
              "            <td>7.2</td>\n",
              "        </tr>\n",
              "        <tr>\n",
              "            <td>2018-12-16 06:45:01</td>\n",
              "            <td>39.17</td>\n",
              "            <td>North Station</td>\n",
              "            <td>0.42</td>\n",
              "            <td>1023.44</td>\n",
              "            <td>None</td>\n",
              "            <td>0.73</td>\n",
              "            <td>7.23</td>\n",
              "        </tr>\n",
              "        <tr>\n",
              "            <td>2018-12-16 05:45:01</td>\n",
              "            <td>40.08</td>\n",
              "            <td>North Station</td>\n",
              "            <td>0.41</td>\n",
              "            <td>1023.5</td>\n",
              "            <td>None</td>\n",
              "            <td>0.7</td>\n",
              "            <td>7.77</td>\n",
              "        </tr>\n",
              "        <tr>\n",
              "            <td>2018-12-16 04:45:02</td>\n",
              "            <td>39.49</td>\n",
              "            <td>North Station</td>\n",
              "            <td>0.45</td>\n",
              "            <td>1023.97</td>\n",
              "            <td>None</td>\n",
              "            <td>0.71</td>\n",
              "            <td>7.21</td>\n",
              "        </tr>\n",
              "        <tr>\n",
              "            <td>2018-12-16 03:45:01</td>\n",
              "            <td>40.54</td>\n",
              "            <td>North Station</td>\n",
              "            <td>0.55</td>\n",
              "            <td>1024.65</td>\n",
              "            <td>None</td>\n",
              "            <td>0.71</td>\n",
              "            <td>6.56</td>\n",
              "        </tr>\n",
              "        <tr>\n",
              "            <td>2018-12-16 02:45:01</td>\n",
              "            <td>40.9</td>\n",
              "            <td>North Station</td>\n",
              "            <td>0.4</td>\n",
              "            <td>1024.5</td>\n",
              "            <td>None</td>\n",
              "            <td>0.71</td>\n",
              "            <td>6.35</td>\n",
              "        </tr>\n",
              "        <tr>\n",
              "            <td>2018-12-16 01:45:01</td>\n",
              "            <td>41.63</td>\n",
              "            <td>North Station</td>\n",
              "            <td>0.44</td>\n",
              "            <td>1023.68</td>\n",
              "            <td>None</td>\n",
              "            <td>0.72</td>\n",
              "            <td>6.24</td>\n",
              "        </tr>\n",
              "        <tr>\n",
              "            <td>2018-12-16 00:45:01</td>\n",
              "            <td>42.7</td>\n",
              "            <td>North Station</td>\n",
              "            <td>0.17</td>\n",
              "            <td>1023.05</td>\n",
              "            <td>None</td>\n",
              "            <td>0.71</td>\n",
              "            <td>6.4</td>\n",
              "        </tr>\n",
              "        <tr>\n",
              "            <td>2018-12-15 23:45:01</td>\n",
              "            <td>44.0</td>\n",
              "            <td>North Station</td>\n",
              "            <td>0.34</td>\n",
              "            <td>1022.05</td>\n",
              "            <td>None</td>\n",
              "            <td>0.7</td>\n",
              "            <td>7.92</td>\n",
              "        </tr>\n",
              "    </tbody>\n",
              "</table>"
            ]
          },
          "metadata": {},
          "execution_count": 38
        }
      ]
    },
    {
      "cell_type": "markdown",
      "source": [
        "**Observations**\n",
        "1. There were no noticeable weather conditions when the surge multiplier was at its lowest\n",
        "2. The surge multiplier was at it's lowest at 8 AM"
      ],
      "metadata": {
        "id": "JZOhZfgd269W"
      }
    },
    {
      "cell_type": "markdown",
      "source": [
        "### 2) Does the time of day drive demand for rides?"
      ],
      "metadata": {
        "id": "-rzyUH3195pV"
      }
    },
    {
      "cell_type": "markdown",
      "source": [
        "Query the numer of rides recorded at hourly intervals"
      ],
      "metadata": {
        "id": "eVSAPzER_fAs"
      }
    },
    {
      "cell_type": "code",
      "source": [
        "for i in range(24):\n",
        "    if i < 10:\n",
        "      start_time = '0' + str(i) + ':00:00'\n",
        "      end_time = '0' + str(i) + ':59:59'\n",
        "    else:\n",
        "      start_time = str(i) + ':00:00'\n",
        "      end_time = str(i) + ':59:59'\n",
        "\n",
        "    num_rides =  %sql select count(*) as total_rides from cab_rides where strftime('%H:%M:%S', datetime(time_stamp/1000, 'unixepoch')) >= '{start_time}' and strftime('%H:%M:%S', datetime(time_stamp/1000, 'unixepoch')) <= '{end_time}'\n",
        "\n",
        "    print('Total rides between ' + start_time + ' and ' + end_time)\n",
        "    print(num_rides)"
      ],
      "metadata": {
        "colab": {
          "base_uri": "https://localhost:8080/"
        },
        "id": "oL460ycfp_GG",
        "outputId": "36656361-082c-4c20-92c0-43aa6e68e3c3"
      },
      "execution_count": 47,
      "outputs": [
        {
          "output_type": "stream",
          "name": "stdout",
          "text": [
            " * sqlite://\n",
            "Done.\n",
            "Total rides between 00:00:00 and 00:59:59\n",
            "+-------------+\n",
            "| total_rides |\n",
            "+-------------+\n",
            "|     3305    |\n",
            "+-------------+\n",
            " * sqlite://\n",
            "Done.\n",
            "Total rides between 01:00:00 and 01:59:59\n",
            "+-------------+\n",
            "| total_rides |\n",
            "+-------------+\n",
            "|     2004    |\n",
            "+-------------+\n",
            " * sqlite://\n",
            "Done.\n",
            "Total rides between 02:00:00 and 02:59:59\n",
            "+-------------+\n",
            "| total_rides |\n",
            "+-------------+\n",
            "|     3026    |\n",
            "+-------------+\n",
            " * sqlite://\n",
            "Done.\n",
            "Total rides between 03:00:00 and 03:59:59\n",
            "+-------------+\n",
            "| total_rides |\n",
            "+-------------+\n",
            "|     2410    |\n",
            "+-------------+\n",
            " * sqlite://\n",
            "Done.\n",
            "Total rides between 04:00:00 and 04:59:59\n",
            "+-------------+\n",
            "| total_rides |\n",
            "+-------------+\n",
            "|     1716    |\n",
            "+-------------+\n",
            " * sqlite://\n",
            "Done.\n",
            "Total rides between 05:00:00 and 05:59:59\n",
            "+-------------+\n",
            "| total_rides |\n",
            "+-------------+\n",
            "|     2779    |\n",
            "+-------------+\n",
            " * sqlite://\n",
            "Done.\n",
            "Total rides between 06:00:00 and 06:59:59\n",
            "+-------------+\n",
            "| total_rides |\n",
            "+-------------+\n",
            "|     2672    |\n",
            "+-------------+\n",
            " * sqlite://\n",
            "Done.\n",
            "Total rides between 07:00:00 and 07:59:59\n",
            "+-------------+\n",
            "| total_rides |\n",
            "+-------------+\n",
            "|     1533    |\n",
            "+-------------+\n",
            " * sqlite://\n",
            "Done.\n",
            "Total rides between 08:00:00 and 08:59:59\n",
            "+-------------+\n",
            "| total_rides |\n",
            "+-------------+\n",
            "|     2301    |\n",
            "+-------------+\n",
            " * sqlite://\n",
            "Done.\n",
            "Total rides between 09:00:00 and 09:59:59\n",
            "+-------------+\n",
            "| total_rides |\n",
            "+-------------+\n",
            "|     2584    |\n",
            "+-------------+\n",
            " * sqlite://\n",
            "Done.\n",
            "Total rides between 10:00:00 and 10:59:59\n",
            "+-------------+\n",
            "| total_rides |\n",
            "+-------------+\n",
            "|     2171    |\n",
            "+-------------+\n",
            " * sqlite://\n",
            "Done.\n",
            "Total rides between 11:00:00 and 11:59:59\n",
            "+-------------+\n",
            "| total_rides |\n",
            "+-------------+\n",
            "|     2065    |\n",
            "+-------------+\n",
            " * sqlite://\n",
            "Done.\n",
            "Total rides between 12:00:00 and 12:59:59\n",
            "+-------------+\n",
            "| total_rides |\n",
            "+-------------+\n",
            "|     2481    |\n",
            "+-------------+\n",
            " * sqlite://\n",
            "Done.\n",
            "Total rides between 13:00:00 and 13:59:59\n",
            "+-------------+\n",
            "| total_rides |\n",
            "+-------------+\n",
            "|     2651    |\n",
            "+-------------+\n",
            " * sqlite://\n",
            "Done.\n",
            "Total rides between 14:00:00 and 14:59:59\n",
            "+-------------+\n",
            "| total_rides |\n",
            "+-------------+\n",
            "|     2432    |\n",
            "+-------------+\n",
            " * sqlite://\n",
            "Done.\n",
            "Total rides between 15:00:00 and 15:59:59\n",
            "+-------------+\n",
            "| total_rides |\n",
            "+-------------+\n",
            "|     2993    |\n",
            "+-------------+\n",
            " * sqlite://\n",
            "Done.\n",
            "Total rides between 16:00:00 and 16:59:59\n",
            "+-------------+\n",
            "| total_rides |\n",
            "+-------------+\n",
            "|     2885    |\n",
            "+-------------+\n",
            " * sqlite://\n",
            "Done.\n",
            "Total rides between 17:00:00 and 17:59:59\n",
            "+-------------+\n",
            "| total_rides |\n",
            "+-------------+\n",
            "|     2472    |\n",
            "+-------------+\n",
            " * sqlite://\n",
            "Done.\n",
            "Total rides between 18:00:00 and 18:59:59\n",
            "+-------------+\n",
            "| total_rides |\n",
            "+-------------+\n",
            "|     2909    |\n",
            "+-------------+\n",
            " * sqlite://\n",
            "Done.\n",
            "Total rides between 19:00:00 and 19:59:59\n",
            "+-------------+\n",
            "| total_rides |\n",
            "+-------------+\n",
            "|     2241    |\n",
            "+-------------+\n",
            " * sqlite://\n",
            "Done.\n",
            "Total rides between 20:00:00 and 20:59:59\n",
            "+-------------+\n",
            "| total_rides |\n",
            "+-------------+\n",
            "|     2410    |\n",
            "+-------------+\n",
            " * sqlite://\n",
            "Done.\n",
            "Total rides between 21:00:00 and 21:59:59\n",
            "+-------------+\n",
            "| total_rides |\n",
            "+-------------+\n",
            "|     1595    |\n",
            "+-------------+\n",
            " * sqlite://\n",
            "Done.\n",
            "Total rides between 22:00:00 and 22:59:59\n",
            "+-------------+\n",
            "| total_rides |\n",
            "+-------------+\n",
            "|     2336    |\n",
            "+-------------+\n",
            " * sqlite://\n",
            "Done.\n",
            "Total rides between 23:00:00 and 23:59:59\n",
            "+-------------+\n",
            "| total_rides |\n",
            "+-------------+\n",
            "|     2458    |\n",
            "+-------------+\n"
          ]
        }
      ]
    },
    {
      "cell_type": "markdown",
      "source": [
        "**Observations**\n",
        "1. Number of rides recorded were highest between midnight and 1 AM.\n",
        "2. The number appears to decline slightly and goes back up from 5 AM to 7 AM.\n",
        "3. The least rides were recorderd between 7 AM and 8 AM.\n",
        "4. There's a noticeable spike from 3 PM and 5 PM.\n",
        "5. The number drops between 5 and 6 PM but goes back up from 6 PM."
      ],
      "metadata": {
        "id": "laNSeXEG5ozC"
      }
    },
    {
      "cell_type": "markdown",
      "source": [
        "### 3) Does the day of the week drive demand for rides?"
      ],
      "metadata": {
        "id": "Dz3GNhLU8HnW"
      }
    },
    {
      "cell_type": "code",
      "source": [
        "%%sql\n",
        "select strftime('%w', datetime(time_stamp/1000, 'unixepoch')) day_of_week, count(*) as number_of_rides\n",
        "from cab_rides group by day_of_week"
      ],
      "metadata": {
        "colab": {
          "base_uri": "https://localhost:8080/",
          "height": 225
        },
        "id": "n37Jw6QX8LC1",
        "outputId": "9736f34d-a6f0-4251-c0de-c28440e70381"
      },
      "execution_count": 57,
      "outputs": [
        {
          "output_type": "stream",
          "name": "stdout",
          "text": [
            " * sqlite://\n",
            "Done.\n"
          ]
        },
        {
          "output_type": "execute_result",
          "data": {
            "text/plain": [
              "[('0', 7836),\n",
              " ('1', 10839),\n",
              " ('2', 10912),\n",
              " ('3', 5178),\n",
              " ('4', 8915),\n",
              " ('5', 7952),\n",
              " ('6', 6797)]"
            ],
            "text/html": [
              "<table>\n",
              "    <thead>\n",
              "        <tr>\n",
              "            <th>day_of_week</th>\n",
              "            <th>number_of_rides</th>\n",
              "        </tr>\n",
              "    </thead>\n",
              "    <tbody>\n",
              "        <tr>\n",
              "            <td>0</td>\n",
              "            <td>7836</td>\n",
              "        </tr>\n",
              "        <tr>\n",
              "            <td>1</td>\n",
              "            <td>10839</td>\n",
              "        </tr>\n",
              "        <tr>\n",
              "            <td>2</td>\n",
              "            <td>10912</td>\n",
              "        </tr>\n",
              "        <tr>\n",
              "            <td>3</td>\n",
              "            <td>5178</td>\n",
              "        </tr>\n",
              "        <tr>\n",
              "            <td>4</td>\n",
              "            <td>8915</td>\n",
              "        </tr>\n",
              "        <tr>\n",
              "            <td>5</td>\n",
              "            <td>7952</td>\n",
              "        </tr>\n",
              "        <tr>\n",
              "            <td>6</td>\n",
              "            <td>6797</td>\n",
              "        </tr>\n",
              "    </tbody>\n",
              "</table>"
            ]
          },
          "metadata": {},
          "execution_count": 57
        }
      ]
    },
    {
      "cell_type": "markdown",
      "source": [
        "Observations\n",
        "1. Monday and Tuesday had the highest number of rides. "
      ],
      "metadata": {
        "id": "Aurx2I1pAGhp"
      }
    },
    {
      "cell_type": "markdown",
      "source": [
        "## Summary of findings"
      ],
      "metadata": {
        "id": "1QoIIXRvyFGL"
      }
    },
    {
      "cell_type": "markdown",
      "source": [
        "1. When the price was the highest, there was light rainfall at the destination. Perhaps the rain caused the  price to double.\n",
        "\n",
        "2. When the price was the lowest, there was no rain at both the source and the destination. Perhaps that's why the price didn't go up.\n",
        "\n",
        "3. There were no noticeable weather conditions when the surge multiplier was at its highest. However, the surge multiplier was at it's highest at 5 AM, perhaps influenced by the time of the day.\n",
        "\n",
        "4. There were no noticeable weather conditions when the surge multiplier was at its lowest. The surge multiplier was at it's lowest at 8 AM.\n",
        "\n",
        "5. The total number of rides recorded were highest between midnight and 1 AM. The number appears to decline slightly after 1 AM and goes back up from 5 AM to 7 AM.\n",
        "\n",
        "6. The least rides were recorderd between 7 AM and 8 AM.\n",
        "\n",
        "7. There's a noticeable spike up from 3 PM and 5 PM. The number drops between 5 and 6 PM but goes back up from 6 PM.\n",
        "\n",
        "8. Monday and Tuesday had the highest number of rides. Perhaps that's because these two days of the week are typically busy\n",
        "\n"
      ],
      "metadata": {
        "id": "jsomUzMr53It"
      }
    }
  ],
  "metadata": {
    "colab": {
      "collapsed_sections": [],
      "name": "[Project] Data Analysis with SQL",
      "toc_visible": true,
      "provenance": []
    },
    "kernelspec": {
      "display_name": "Python 3",
      "name": "python3"
    },
    "language_info": {
      "name": "python"
    }
  },
  "nbformat": 4,
  "nbformat_minor": 0
}